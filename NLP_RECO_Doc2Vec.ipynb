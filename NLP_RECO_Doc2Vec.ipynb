{
 "cells": [
  {
   "cell_type": "markdown",
   "metadata": {
    "colab_type": "text",
    "id": "98xgeqvpjlcJ"
   },
   "source": [
    "#### Install and import libraries"
   ]
  },
  {
   "cell_type": "code",
   "execution_count": 0,
   "metadata": {
    "colab": {},
    "colab_type": "code",
    "id": "hzuQgwcqYKcU"
   },
   "outputs": [],
   "source": [
    "!pip install azure-storage"
   ]
  },
  {
   "cell_type": "code",
   "execution_count": 0,
   "metadata": {
    "colab": {},
    "colab_type": "code",
    "id": "Boj3IjmJeqgT"
   },
   "outputs": [],
   "source": [
    "import pandas as pd\n",
    "pd.set_option('display.max_colwidth', -1)\n",
    "\n",
    "import numpy as np\n",
    "import re\n",
    "\n",
    "import nltk\n",
    "nltk.download\n",
    "nltk.download('punkt')\n",
    "nltk.download('stopwords')\n",
    "nltk.download('wordnet')\n",
    "from nltk.corpus import stopwords\n",
    "from nltk.tokenize import word_tokenize\n",
    "\n",
    "import gensim \n",
    "from gensim.models.doc2vec import Doc2Vec, TaggedDocument\n",
    "\n",
    "from google.colab import files"
   ]
  },
  {
   "cell_type": "markdown",
   "metadata": {
    "colab_type": "text",
    "id": "TgvNNcyla-FP"
   },
   "source": [
    "#### Upload files to azure cloud platform\n",
    "\n"
   ]
  },
  {
   "cell_type": "code",
   "execution_count": 0,
   "metadata": {
    "colab": {},
    "colab_type": "code",
    "id": "zzW_b7DrYQcy"
   },
   "outputs": [],
   "source": [
    "from azure.storage.blob import BlockBlobService\n",
    "\n",
    "account_name='bricen'\n",
    "account_key='N0ZNhw3i1xpnCxq5luWE2Sn3ZN88eKJn1PYqR3XxXR3nmqIzsD0rGWcL4Ul8AiSYciTqYHwugJPIxqfxWvKB9A=='\n",
    "\n",
    "service_blob = BlockBlobService(account_name, account_key) "
   ]
  },
  {
   "cell_type": "code",
   "execution_count": 0,
   "metadata": {
    "colab": {
     "base_uri": "https://localhost:8080/",
     "height": 34
    },
    "colab_type": "code",
    "id": "_UqEmNXra16I",
    "outputId": "a816c26b-d4db-4ee4-95a5-52be56d57f7c"
   },
   "outputs": [
    {
     "data": {
      "text/plain": [
       "['/content/applicants.csv', '/content/jobs.csv']"
      ]
     },
     "execution_count": 10,
     "metadata": {
      "tags": []
     },
     "output_type": "execute_result"
    }
   ],
   "source": [
    "import glob\n",
    "\n",
    "files_to_upload = glob.glob('/content/*.csv')\n",
    "files_to_upload"
   ]
  },
  {
   "cell_type": "code",
   "execution_count": 0,
   "metadata": {
    "colab": {},
    "colab_type": "code",
    "id": "wqbecVoKZCLK"
   },
   "outputs": [],
   "source": [
    "service_blob.create_container('nlpreco')\n",
    "container_name = 'nlpreco'\n",
    "for item in files_to_upload:  \n",
    "  source_file_path = item\n",
    "  destination_file_path = item.rpartition('/')[-1]\n",
    "  service_blob.create_blob_from_path(container_name, destination_file_path, source_file_path)"
   ]
  },
  {
   "cell_type": "markdown",
   "metadata": {
    "colab_type": "text",
    "id": "BH9Cq01vpmSy"
   },
   "source": [
    "#### Upload files from local disk"
   ]
  },
  {
   "cell_type": "code",
   "execution_count": 0,
   "metadata": {
    "colab": {},
    "colab_type": "code",
    "id": "TZs_dp11opb4"
   },
   "outputs": [],
   "source": [
    "uploaded = files.upload()"
   ]
  },
  {
   "cell_type": "markdown",
   "metadata": {
    "colab_type": "text",
    "id": "c4NERUaqdFzn"
   },
   "source": [
    "#### Upload files from azure cloud platform"
   ]
  },
  {
   "cell_type": "code",
   "execution_count": 0,
   "metadata": {
    "colab": {},
    "colab_type": "code",
    "id": "2pRru0eCagXd"
   },
   "outputs": [],
   "source": [
    "from azure.storage.blob import BlockBlobService\n",
    "\n",
    "account_name='bricen'\n",
    "account_key='N0ZNhw3i1xpnCxq5luWE2Sn3ZN88eKJn1PYqR3XxXR3nmqIzsD0rGWcL4Ul8AiSYciTqYHwugJPIxqfxWvKB9A=='\n",
    "\n",
    "service_blob = BlockBlobService(account_name, account_key) "
   ]
  },
  {
   "cell_type": "code",
   "execution_count": 0,
   "metadata": {
    "colab": {},
    "colab_type": "code",
    "id": "I6hh53bidhbH"
   },
   "outputs": [],
   "source": [
    "container_name = 'nlpreco'\n",
    "files_list = []\n",
    "\n",
    "for blob in service_blob.list_blobs(container_name):\n",
    "    files_list.append(blob.name)\n",
    "files_list"
   ]
  },
  {
   "cell_type": "code",
   "execution_count": 0,
   "metadata": {
    "colab": {},
    "colab_type": "code",
    "id": "zk_TfK0aaj9Y"
   },
   "outputs": [],
   "source": [
    "for filename in files_list:\n",
    "  source_file_path = filename\n",
    "  destination_file_path = '/content/{}'.format(filename)\n",
    "  \n",
    "  service_blob.get_blob_to_path(container_name, source_file_path, destination_file_path)"
   ]
  },
  {
   "cell_type": "markdown",
   "metadata": {
    "colab_type": "text",
    "id": "7V98J59ByHlK"
   },
   "source": [
    "- There are 5 datasets in total\n",
    "\n",
    "  - The *Combined_Jobs_Final.csv*, *Experience.csv*, *Job_Views.csv*, *Positions_Of_Interest.csv* datasets were taken from this [Kaggle Challenge](https://kaggle.com/kandij/job-recommendation-datasets)\n",
    "  - The *Jobs2.csv* dataset was taken from [here](https://https://www.kaggle.com/chadalee/text-analytics-explained-job-description-data/notebook)\n",
    "\n",
    "- These datasets can be separated in two groups:\n",
    "  - Jobs datasets (*Combined_Jobs_Final.csv*, *Jobs2.csv*)\n",
    "  - Applicants datasets (*Experience.csv*, *Job_Views.csv*, *Positions_Of_Interest.csv*)\n",
    "\n",
    "- The following steps will consist of cleaning the datasets and combine them if they are in the same group\n"
   ]
  },
  {
   "cell_type": "markdown",
   "metadata": {
    "colab_type": "text",
    "id": "90es0mbAhtWU"
   },
   "source": [
    "#### We are going to use word embedding (Word2Vec) for job recommendation\n",
    "Here are the preprocessing steps to follow for each dataframe:\n",
    "\n",
    "- Drop unwanted columns\n",
    "- Impute missing values\n",
    "- Transform all text to lower case\n",
    "- Remove punctuation signs\n",
    "- Remove stop words"
   ]
  },
  {
   "cell_type": "code",
   "execution_count": 0,
   "metadata": {
    "colab": {},
    "colab_type": "code",
    "id": "K3BU-ywZtAVo"
   },
   "outputs": [],
   "source": [
    "# Preprocessing function\n",
    "\n",
    "def text_preproc(row):\n",
    "  stop_words = set(stopwords.words('english'))\n",
    "  row = re.sub(r'\\W+', ' ', row)   # remove non aphanumeric characters\n",
    "  row = row.replace('\\r', '')      # remove \\r\n",
    "  row = row.replace('\\n', '')      # remove \\n\n",
    "  row = row.replace('\\d+', '')     # remove numbers\n",
    "  row = re.sub(r'[^\\w\\s]','', row) # remove punctuations\n",
    "  row = row.lower()                # put all words in lowcase\n",
    "  return row"
   ]
  },
  {
   "cell_type": "markdown",
   "metadata": {
    "colab_type": "text",
    "id": "icro1_Frdeis"
   },
   "source": [
    "#### Clean the Combined_Jobs_Final dataframe"
   ]
  },
  {
   "cell_type": "code",
   "execution_count": 0,
   "metadata": {
    "colab": {},
    "colab_type": "code",
    "id": "UMnqCKH_bEQj"
   },
   "outputs": [],
   "source": [
    "# csv file containing job offers info\n",
    "\n",
    "df_jobs = pd.read_csv('Combined_Jobs_Final.csv')\n",
    "df_jobs.head(2)"
   ]
  },
  {
   "cell_type": "code",
   "execution_count": 0,
   "metadata": {
    "colab": {},
    "colab_type": "code",
    "id": "-v5QDrdheST9"
   },
   "outputs": [],
   "source": [
    "# Drop unecessaray columns\n",
    "\n",
    "df_jobs.drop(columns=['Provider', \n",
    "                      'Status', \n",
    "                      'Slug', \n",
    "                      'State.Code', \n",
    "                      'Address', \n",
    "                      'Industry', \n",
    "                      'Requirements', \n",
    "                      'Salary', \n",
    "                      'Listing.Start', \n",
    "                      'Listing.End', \n",
    "                      'Created.At', \n",
    "                      'Updated.At'], inplace=True)"
   ]
  },
  {
   "cell_type": "code",
   "execution_count": 0,
   "metadata": {
    "colab": {},
    "colab_type": "code",
    "id": "dqvL8Sbref51"
   },
   "outputs": [],
   "source": [
    "# Rename columns\n",
    "\n",
    "df_jobs.rename(columns={'Job.ID':'Job_ID', \n",
    "                        'State.Name':'State', \n",
    "                        'Job.Description':'Description',\n",
    "                        'Employment.Type':'Employment',\n",
    "                        'Education.Required':'Education'}, inplace=True)"
   ]
  },
  {
   "cell_type": "code",
   "execution_count": 0,
   "metadata": {
    "colab": {},
    "colab_type": "code",
    "id": "AczXHZtkesp7"
   },
   "outputs": [],
   "source": [
    "# Change value in Employment column to be consistent\n",
    "\n",
    "df_jobs[\"Employment\"]= df_jobs.Employment.replace('Temporary/seasonal', 'Seasonal/Temp')"
   ]
  },
  {
   "cell_type": "code",
   "execution_count": 0,
   "metadata": {
    "colab": {},
    "colab_type": "code",
    "id": "wVGX76s6e6L0"
   },
   "outputs": [],
   "source": [
    "# Impute missing values\n",
    "\n",
    "df_jobs['Description'] = df_jobs.Description.fillna('')\n",
    "df_jobs['Employment'] = df_jobs.Employment.fillna('')\n",
    "df_jobs['Education'] = df_jobs.Education.fillna(df_jobs.Education.mode().iloc[0])\n",
    "df_jobs['Company'] = df_jobs.Company.fillna('')\n",
    "df_jobs['City'] = df_jobs.City.fillna('')\n",
    "df_jobs['State'] = df_jobs.State.fillna('')"
   ]
  },
  {
   "cell_type": "code",
   "execution_count": 0,
   "metadata": {
    "colab": {},
    "colab_type": "code",
    "id": "7DvRZM9ffXxp"
   },
   "outputs": [],
   "source": [
    "# Remove company name from the job title where applicable\n",
    "df_jobs['Title'] = df_jobs.apply(lambda x: x.Title.replace(x.Company, ''), axis=1)\n",
    "\n",
    "# Apply the text_preproc function to the columns with text\n",
    "\n",
    "df_jobs['Title'] = df_jobs.Title.apply(text_preproc)\n",
    "df_jobs['Position'] = df_jobs.Position.apply(text_preproc)\n",
    "df_jobs['Company'] = df_jobs.Company.apply(text_preproc)\n",
    "df_jobs['City'] = df_jobs.City.apply(text_preproc)\n",
    "df_jobs['State'] = df_jobs.State.apply(text_preproc)\n",
    "df_jobs['Description'] = df_jobs.Description.apply(text_preproc)\n",
    "df_jobs['Employment'] = df_jobs.Employment.apply(text_preproc)\n",
    "df_jobs['Education'] = df_jobs.Education.apply(text_preproc)"
   ]
  },
  {
   "cell_type": "markdown",
   "metadata": {
    "colab_type": "text",
    "id": "bPoWBESgg2jo"
   },
   "source": [
    "#### Clean the Jobs2 dataframe"
   ]
  },
  {
   "cell_type": "code",
   "execution_count": 0,
   "metadata": {
    "colab": {},
    "colab_type": "code",
    "id": "erOIv0uug5GK"
   },
   "outputs": [],
   "source": [
    "# csv file containing job offers info\n",
    "\n",
    "df_jobs2 = pd.read_csv('Jobs2.csv') \n",
    "df_jobs2.head(2)"
   ]
  },
  {
   "cell_type": "code",
   "execution_count": 0,
   "metadata": {
    "colab": {},
    "colab_type": "code",
    "id": "VY9NH5oMhUNs"
   },
   "outputs": [],
   "source": [
    "# Drop unecessaray columns\n",
    "\n",
    "df_jobs2.drop(columns=['LocationRaw',\n",
    "                       'ContractTime',\n",
    "                       'Category', \n",
    "                       'SalaryRaw', \n",
    "                       'SalaryNormalized', \n",
    "                       'SourceName'], inplace=True)"
   ]
  },
  {
   "cell_type": "code",
   "execution_count": 0,
   "metadata": {
    "colab": {},
    "colab_type": "code",
    "id": "i_YWe5IJhfkA"
   },
   "outputs": [],
   "source": [
    "# Rename columns\n",
    "\n",
    "df_jobs2.rename(columns={'Id':'Job_ID', \n",
    "                         'State.Name':'State', \n",
    "                         'FullDescription':'Description',\n",
    "                         'LocationNormalized':'City',\n",
    "                         'ContractType':'Employment'}, inplace=True)"
   ]
  },
  {
   "cell_type": "code",
   "execution_count": 0,
   "metadata": {
    "colab": {},
    "colab_type": "code",
    "id": "q7EfGM43iEBv"
   },
   "outputs": [],
   "source": [
    "# Create new columns in df_jobs2 dataset to match that in df_jobs\n",
    "\n",
    "df_jobs2['Education'] = 'Not Specified'\n",
    "df_jobs2['Latitude'] = ''\n",
    "df_jobs2['Longitude'] = ''\n",
    "df_jobs2['State'] = ''\n",
    "\n",
    "# Change the Employment columns values of the df_jobs2 to match that of the df_jobs dataframe\n",
    "\n",
    "df_jobs2[\"Employment\"]= df_jobs2.Employment.replace('full_time', 'Full-Time')\n",
    "df_jobs2[\"Employment\"]= df_jobs2.Employment.replace('part_time', 'Part-Time')\n",
    "\n",
    "# Impute missing values\n",
    "\n",
    "df_jobs2_w2v['Employment'] = df_jobs2_w2v.Employment.fillna('')\n",
    "df_jobs2_w2v['Company'] = df_jobs2_w2v.Company.fillna('')\n",
    "\n",
    "# Impute a missing value based on the other columns\n",
    "\n",
    "df_jobs2.Title[1588] = 'Quality Improvement Manager'"
   ]
  },
  {
   "cell_type": "code",
   "execution_count": 0,
   "metadata": {
    "colab": {},
    "colab_type": "code",
    "id": "zxViEyikicdD"
   },
   "outputs": [],
   "source": [
    "# Remove 'Position:' in the Job_Descriptions\n",
    "\n",
    "df_jobs2['Description'] = df_jobs2.Description.apply(lambda row: row.replace('Position:', ''))\n",
    "\n",
    "# Create the Position column\n",
    "df_jobs2['Position'] = df_jobs2.apply(lambda x: x.Title.replace(x.City, ''), axis=1)\n",
    "\n",
    "# Apply the text_preproc function to the columns with text\n",
    "\n",
    "df_jobs2['Title'] = df_jobs2.Title.apply(text_preproc)\n",
    "df_jobs2['Description'] = df_jobs2.Description.apply(text_preproc)\n",
    "df_jobs2['Position'] = df_jobs2.Position.apply(text_preproc)\n",
    "df_jobs2['City'] = df_jobs2.City.apply(text_preproc)\n",
    "df_jobs2['Employment'] = df_jobs2.Employment.apply(text_preproc)\n",
    "df_jobs2['Company'] = df_jobs2.Company.apply(text_preproc)\n",
    "df_jobs2['Education'] = df_jobs2.Education.apply(text_preproc)"
   ]
  },
  {
   "cell_type": "code",
   "execution_count": 0,
   "metadata": {
    "colab": {},
    "colab_type": "code",
    "id": "B2Kl6siECVrX"
   },
   "outputs": [],
   "source": [
    "# Reorganize columns orders to match df_jobs\n",
    "\n",
    "df_jobs2 = df_jobs2[['Job_ID', 'Title', 'Position', 'Company', 'City', 'State', 'Latitude', 'Longitude', 'Description', 'Employment', 'Education']]"
   ]
  },
  {
   "cell_type": "markdown",
   "metadata": {
    "colab_type": "text",
    "id": "45rBRzn7kv32"
   },
   "source": [
    "#### Concatenate the two jobs datasets"
   ]
  },
  {
   "cell_type": "code",
   "execution_count": 0,
   "metadata": {
    "colab": {},
    "colab_type": "code",
    "id": "OpcmGJpJkOjB"
   },
   "outputs": [],
   "source": [
    "jobs_dataset = pd.concat([df_jobs_w2v, df_jobs2_w2v], ignore_index=True)\n",
    "jobs_dataset.drop(columns=['Title'], inplace=True)\n",
    "jobs_dataset.to_csv(\"jobs_w2v.csv\", index=False)"
   ]
  },
  {
   "cell_type": "code",
   "execution_count": 0,
   "metadata": {
    "colab": {},
    "colab_type": "code",
    "id": "FDP8t7ZwmzoN"
   },
   "outputs": [],
   "source": [
    "# download the job dataset for the Word2Vec model on local disk\n",
    "\n",
    "files.download('jobs_w2v.csv')"
   ]
  },
  {
   "cell_type": "code",
   "execution_count": 0,
   "metadata": {
    "colab": {},
    "colab_type": "code",
    "id": "TKwlwblekuAX"
   },
   "outputs": [],
   "source": [
    "# Upload the job dataset for the Word2Vec model to Azure cloud platform\n",
    "\n",
    "from azure.storage.blob import BlockBlobService\n",
    "\n",
    "account_name='bricen'\n",
    "account_key='N0ZNhw3i1xpnCxq5luWE2Sn3ZN88eKJn1PYqR3XxXR3nmqIzsD0rGWcL4Ul8AiSYciTqYHwugJPIxqfxWvKB9A=='\n",
    "service_blob = BlockBlobService(account_name, account_key)\n",
    "\n",
    "import glob\n",
    "files_to_upload = 'jobs_w2v.csv'\n",
    "\n",
    "container_name = 'nlpreco'\n",
    "for item in files_to_upload:  \n",
    "  source_file_path = files_to_upload\n",
    "  destination_file_path = 'jobs_w2v.csv'\n",
    "  service_blob.create_blob_from_path(container_name, destination_file_path, source_file_path)\n",
    "  service_blob.create_blob_from_path(container_name, destination_file_path, source_file_path)"
   ]
  },
  {
   "cell_type": "markdown",
   "metadata": {
    "colab_type": "text",
    "id": "DPmD73ZNlf-u"
   },
   "source": [
    "#### Clean the *Experience* dataframe"
   ]
  },
  {
   "cell_type": "code",
   "execution_count": 0,
   "metadata": {
    "colab": {},
    "colab_type": "code",
    "id": "f8N2UKnAtrvA"
   },
   "outputs": [],
   "source": [
    "# csv file containing the professional experience of the Applicants\n",
    "\n",
    "df_exp = pd.read_csv('Experience.csv')\n",
    "df_exp.head(2)"
   ]
  },
  {
   "cell_type": "code",
   "execution_count": 0,
   "metadata": {
    "colab": {},
    "colab_type": "code",
    "id": "OX4q01VouLkc"
   },
   "outputs": [],
   "source": [
    "# Drop unecessaray columns\n",
    "\n",
    "df_exp.drop(columns=['State.Code',\n",
    "                     'Start.Date',\n",
    "                     'End.Date',\n",
    "                     'Salary', \n",
    "                     'Can.Contact.Employer', \n",
    "                     'Created.At', \n",
    "                     'Updated.At'], inplace=True)"
   ]
  },
  {
   "cell_type": "code",
   "execution_count": 0,
   "metadata": {
    "colab": {},
    "colab_type": "code",
    "id": "pyEmNydXuggZ"
   },
   "outputs": [],
   "source": [
    "# Rename columns\n",
    "\n",
    "df_exp.rename(columns={'Applicant.ID':'Applicant_ID', \n",
    "                       'Employer.Name':'Company', \n",
    "                       'Position.Name':'Position', \n",
    "                       'Job.Description':'Description', \n",
    "                       'State.Name':'State'}, inplace=True)"
   ]
  },
  {
   "cell_type": "code",
   "execution_count": 0,
   "metadata": {
    "colab": {},
    "colab_type": "code",
    "id": "JLo6JkUUusTO"
   },
   "outputs": [],
   "source": [
    "# Impute missing values\n",
    "\n",
    "df_exp['Position'] = df_exp.Position.fillna('')\n",
    "df_exp['Company'] = df_exp.Company.fillna('')\n",
    "df_exp['City'] = df_exp.City.fillna('')\n",
    "df_exp['State'] = df_exp.State.fillna('')\n",
    "df_exp['Description'] = df_exp.Description.fillna('')"
   ]
  },
  {
   "cell_type": "code",
   "execution_count": 0,
   "metadata": {
    "colab": {},
    "colab_type": "code",
    "id": "6XiUL33Wu26X"
   },
   "outputs": [],
   "source": [
    "# Apply the text_preproc function to the columns with text\n",
    "\n",
    "df_exp['Position'] = df_exp.Position.apply(text_preproc)\n",
    "df_exp['Company'] = df_exp.Company.apply(text_preproc)\n",
    "df_exp['City'] = df_exp.City.apply(text_preproc)\n",
    "df_exp['State'] = df_exp.State.apply(text_preproc)\n",
    "df_exp['Description'] = df_exp.Description.apply(text_preproc)"
   ]
  },
  {
   "cell_type": "code",
   "execution_count": 0,
   "metadata": {
    "colab": {},
    "colab_type": "code",
    "id": "3BU0ncwOvFmZ"
   },
   "outputs": [],
   "source": [
    "# Add a suffix to the column names of the experience dataset\n",
    "\n",
    "col_names = ['Position', 'Company', 'City', 'State', 'Description']\n",
    "col_new_names = [name+'_before' for name in col_names]\n",
    "   \n",
    "for i in range(len(col_names)):\n",
    "  df_exp_w2v.rename(columns={col_names[i]:col_new_names[i]}, inplace=True)"
   ]
  },
  {
   "cell_type": "markdown",
   "metadata": {
    "colab_type": "text",
    "id": "U7MkiLhGvjuv"
   },
   "source": [
    "#### Clean the *Job_views* dataframe"
   ]
  },
  {
   "cell_type": "code",
   "execution_count": 0,
   "metadata": {
    "colab": {},
    "colab_type": "code",
    "id": "C8kSsMSCvvty"
   },
   "outputs": [],
   "source": [
    "# csv file containing info about the job viewed by the applicants\n",
    "\n",
    "df_views = pd.read_csv('Job_Views.csv')\n",
    "df_views.head(2)"
   ]
  },
  {
   "cell_type": "code",
   "execution_count": 0,
   "metadata": {
    "colab": {},
    "colab_type": "code",
    "id": "Ph7qVeg7v6Dg"
   },
   "outputs": [],
   "source": [
    "# Drop unecessaray columns\n",
    "\n",
    "df_views.drop(columns=['Title',\n",
    "                       'Job.ID',\n",
    "                       'State.Code',\n",
    "                       'Industry',\n",
    "                       'View.Start',\n",
    "                       'View.End', \n",
    "                       'Created.At', \n",
    "                       'Updated.At'], inplace=True)"
   ]
  },
  {
   "cell_type": "code",
   "execution_count": 0,
   "metadata": {
    "colab": {},
    "colab_type": "code",
    "id": "FeofK5OtwE6Z"
   },
   "outputs": [],
   "source": [
    "# Rename columns\n",
    "\n",
    "df_views.rename(columns={'Applicant.ID':'Applicant_ID',\n",
    "                         'State.Name':'State',\n",
    "                         'View.Duration':'View_Duration'}, inplace=True)"
   ]
  },
  {
   "cell_type": "code",
   "execution_count": 0,
   "metadata": {
    "colab": {},
    "colab_type": "code",
    "id": "8mwoGM7bwOZl"
   },
   "outputs": [],
   "source": [
    "# Impute missing values\n",
    "\n",
    "df_views['Company'] = df_views.Company.fillna('')\n",
    "df_views['State'] = df_views.State.fillna('')\n",
    "df_views['View_Duration'] = df_views.View_Duration.fillna(df_views.View_Duration.median())"
   ]
  },
  {
   "cell_type": "code",
   "execution_count": 0,
   "metadata": {
    "colab": {},
    "colab_type": "code",
    "id": "4_PApjdbweL9"
   },
   "outputs": [],
   "source": [
    "# Remove Company name from Position\n",
    "df_views['Position'] = df_views.apply(lambda x: x.Position.replace(x.Company, ''), axis=1)\n",
    "\n",
    "# Apply the text_preproc function to the columns with text\n",
    "\n",
    "df_views['Position'] = df_views.Position.apply(text_preproc)\n",
    "df_views['Company'] = df_views.Company.apply(text_preproc)\n",
    "df_views['City'] = df_views.City.apply(text_preproc)\n",
    "df_views['State'] = df_views.State.apply(text_preproc)"
   ]
  },
  {
   "cell_type": "code",
   "execution_count": 0,
   "metadata": {
    "colab": {},
    "colab_type": "code",
    "id": "5EPgsX30wnUV"
   },
   "outputs": [],
   "source": [
    "# Add a suffix to the column names of the df_views dataset\n",
    "\n",
    "col_names = ['Position', 'Company', 'City', 'State']\n",
    "col_new_names = [name+'_viewed' for name in col_names]\n",
    "   \n",
    "for i in range(len(col_names)):\n",
    "  df_views_w2v.rename(columns={col_names[i]:col_new_names[i]}, inplace=True)"
   ]
  },
  {
   "cell_type": "markdown",
   "metadata": {
    "colab_type": "text",
    "id": "X3Z3OGejwwlA"
   },
   "source": [
    "#### Cleaning the *Positions_Of_Interest* dataframe"
   ]
  },
  {
   "cell_type": "code",
   "execution_count": 0,
   "metadata": {
    "colab": {},
    "colab_type": "code",
    "id": "0DV2BBZqw3cx"
   },
   "outputs": [],
   "source": [
    "# csv file containing the jobs positions of interest for the applicants\n",
    "\n",
    "df_poi = pd.read_csv('Positions_Of_Interest.csv')\n",
    "df_poi.head(2)"
   ]
  },
  {
   "cell_type": "code",
   "execution_count": 0,
   "metadata": {
    "colab": {},
    "colab_type": "code",
    "id": "8Z5U2LeMw_ET"
   },
   "outputs": [],
   "source": [
    "# Rename columns\n",
    "\n",
    "df_poi.rename(columns={'Applicant.ID':'Applicant_ID',\n",
    "                       'Position.Of.Interest':'POI'}, inplace=True)\n",
    "\n",
    "# Drop columns\n",
    "\n",
    "df_poi.drop(columns=['Created.At', 'Updated.At'], inplace=True)\n",
    "df_poi['POI'] = df_poi.POI.fillna('')"
   ]
  },
  {
   "cell_type": "code",
   "execution_count": 0,
   "metadata": {
    "colab": {},
    "colab_type": "code",
    "id": "vJ9NzRxOxNjp"
   },
   "outputs": [],
   "source": [
    "# Apply the text_preproc function to the columns with text\n",
    "\n",
    "df_poi['POI'] = df_poi.POI.apply(text_preproc)"
   ]
  },
  {
   "cell_type": "markdown",
   "metadata": {
    "colab_type": "text",
    "id": "knH7Gkw0xZMC"
   },
   "source": [
    "#### Join the three applicants datasets (df_poi, df_exp, and df_views) by Applicant_ID column"
   ]
  },
  {
   "cell_type": "code",
   "execution_count": 0,
   "metadata": {
    "colab": {},
    "colab_type": "code",
    "id": "kQc3io3Fxb2F"
   },
   "outputs": [],
   "source": [
    "df_applicants = pd.merge(pd.merge(df_exp, df_views, on='Applicant_ID'), df_poi, on='Applicant_ID')\n",
    "df_applicants.head()"
   ]
  },
  {
   "cell_type": "code",
   "execution_count": 0,
   "metadata": {
    "colab": {},
    "colab_type": "code",
    "id": "HfU_yhz6xvtd"
   },
   "outputs": [],
   "source": [
    "df_applicants.to_csv(\"applicants_w2v.csv\", index=False)"
   ]
  },
  {
   "cell_type": "code",
   "execution_count": 0,
   "metadata": {
    "colab": {},
    "colab_type": "code",
    "id": "uuyKuPl8x8g4"
   },
   "outputs": [],
   "source": [
    "# download the apllicant dataset for the Word2Vec model to store on local disk\n",
    "\n",
    "files.download('df_applicants_w2v.csv')"
   ]
  },
  {
   "cell_type": "code",
   "execution_count": 0,
   "metadata": {
    "colab": {},
    "colab_type": "code",
    "id": "NIEH3vvbySJF"
   },
   "outputs": [],
   "source": [
    "# Upload the applicant dataset for the Word2Vec model to Azure cloud platform\n",
    "\n",
    "from azure.storage.blob import BlockBlobService\n",
    "\n",
    "account_name='bricen'\n",
    "account_key='N0ZNhw3i1xpnCxq5luWE2Sn3ZN88eKJn1PYqR3XxXR3nmqIzsD0rGWcL4Ul8AiSYciTqYHwugJPIxqfxWvKB9A=='\n",
    "service_blob = BlockBlobService(account_name, account_key)\n",
    "\n",
    "import glob\n",
    "files_to_upload = 'applicants_w2v.csv'\n",
    "files_to_upload\n",
    "\n",
    "container_name = 'nlpreco'\n",
    "for item in files_to_upload:  \n",
    "  source_file_path = files_to_upload\n",
    "  destination_file_path = 'applicants_w2v.csv'\n",
    "  service_blob.create_blob_from_path(container_name, destination_file_path, source_file_path)\n",
    "  service_blob.create_blob_from_path(container_name, destination_file_path, source_file_path)"
   ]
  },
  {
   "cell_type": "markdown",
   "metadata": {
    "colab_type": "text",
    "id": "SYMJ0br03LaZ"
   },
   "source": [
    "#### Upload the jobs and applicants datasets"
   ]
  },
  {
   "cell_type": "code",
   "execution_count": 4,
   "metadata": {
    "colab": {
     "base_uri": "https://localhost:8080/",
     "height": 142,
     "resources": {
      "http://localhost:8080/nbextensions/google.colab/files.js": {
       "data": "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",
       "headers": [
        [
         "content-type",
         "application/javascript"
        ]
       ],
       "ok": true,
       "status": 200,
       "status_text": ""
      }
     }
    },
    "colab_type": "code",
    "id": "i-TZjvuF3cQM",
    "outputId": "202c4933-776a-44fb-97c4-60fc898926dc"
   },
   "outputs": [
    {
     "data": {
      "text/html": [
       "\n",
       "     <input type=\"file\" id=\"files-1eff139d-7eb6-4d78-865e-2822151822cd\" name=\"files[]\" multiple disabled />\n",
       "     <output id=\"result-1eff139d-7eb6-4d78-865e-2822151822cd\">\n",
       "      Upload widget is only available when the cell has been executed in the\n",
       "      current browser session. Please rerun this cell to enable.\n",
       "      </output>\n",
       "      <script src=\"/nbextensions/google.colab/files.js\"></script> "
      ],
      "text/plain": [
       "<IPython.core.display.HTML object>"
      ]
     },
     "metadata": {
      "tags": []
     },
     "output_type": "display_data"
    },
    {
     "name": "stdout",
     "output_type": "stream",
     "text": [
      "Saving applicants_w2v.csv to applicants_w2v.csv\n",
      "Saving d2v.model to d2v.model\n",
      "Saving jobs_w2v.csv to jobs_w2v.csv\n"
     ]
    }
   ],
   "source": [
    "# upload the files from local disk\n",
    "\n",
    "uploaded = files.upload()"
   ]
  },
  {
   "cell_type": "code",
   "execution_count": 0,
   "metadata": {
    "colab": {},
    "colab_type": "code",
    "id": "ZokoXl2n33P1"
   },
   "outputs": [],
   "source": [
    "# Upload files from azure cloud platform\n",
    "\n",
    "from azure.storage.blob import BlockBlobService\n",
    "\n",
    "account_name='bricen'\n",
    "account_key='N0ZNhw3i1xpnCxq5luWE2Sn3ZN88eKJn1PYqR3XxXR3nmqIzsD0rGWcL4Ul8AiSYciTqYHwugJPIxqfxWvKB9A=='\n",
    "\n",
    "service_blob = BlockBlobService(account_name, account_key) "
   ]
  },
  {
   "cell_type": "code",
   "execution_count": 0,
   "metadata": {
    "colab": {},
    "colab_type": "code",
    "id": "Cq3RL6Wm3_p0"
   },
   "outputs": [],
   "source": [
    "container_name = 'nlpreco'\n",
    "files_list = ['jobs_w2v.csv', 'applicants_w2v.csv']\n",
    "\n",
    "#for blob in service_blob.list_blobs(container_name):\n",
    "#    files_list.append(blob.name)\n",
    "#files_list"
   ]
  },
  {
   "cell_type": "code",
   "execution_count": 0,
   "metadata": {
    "colab": {},
    "colab_type": "code",
    "id": "OKIXBYQa4V-B"
   },
   "outputs": [],
   "source": [
    "for filename in files_list:\n",
    "  source_file_path = filename\n",
    "  destination_file_path = '/content/{}'.format(filename)\n",
    "  \n",
    "  service_blob.get_blob_to_path(container_name, source_file_path, destination_file_path)"
   ]
  },
  {
   "cell_type": "markdown",
   "metadata": {
    "colab_type": "text",
    "id": "0xIe6uulyyMc"
   },
   "source": [
    "#### Make job recommandation model using Word2Vec\n",
    "- We need a combined text column for both final datasets\n",
    "- We will try different combinations to see how it affects the recommendations"
   ]
  },
  {
   "cell_type": "code",
   "execution_count": 0,
   "metadata": {
    "colab": {},
    "colab_type": "code",
    "id": "WUoVifBTz3ki"
   },
   "outputs": [],
   "source": [
    "jobs_w2v = pd.read_csv('jobs_w2v.csv', low_memory=False)\n",
    "jobs_w2v.fillna('[]', inplace=True)\n",
    "jobs_w2v.head(2)"
   ]
  },
  {
   "cell_type": "code",
   "execution_count": 0,
   "metadata": {
    "colab": {},
    "colab_type": "code",
    "id": "lm6FPg_VzZV5"
   },
   "outputs": [],
   "source": [
    "# Create a new column to contain the combined jobs information\n",
    "\n",
    "jobs_w2v['Combined_info'] = jobs_w2v['Position'] + jobs_w2v['Description']\n",
    "jobs_w2v.head(2)"
   ]
  },
  {
   "cell_type": "code",
   "execution_count": 0,
   "metadata": {
    "colab": {},
    "colab_type": "code",
    "id": "YhLEIvHp5hKY"
   },
   "outputs": [],
   "source": [
    "jobs_w2v.tail(2)"
   ]
  },
  {
   "cell_type": "code",
   "execution_count": 0,
   "metadata": {
    "colab": {},
    "colab_type": "code",
    "id": "AKSTG_9FfjcH"
   },
   "outputs": [],
   "source": [
    "# Transform the created column to list, tokenize and create tags for each job\n",
    "\n",
    "job_documents = jobs_info_w2v.Combined_info.to_list()\n",
    "tagged_data = [TaggedDocument(words=word_tokenize(_d.lower()), tags=[str(i)]) for i, _d in enumerate(job_documents)]"
   ]
  },
  {
   "cell_type": "code",
   "execution_count": 0,
   "metadata": {
    "colab": {
     "base_uri": "https://localhost:8080/",
     "height": 394
    },
    "colab_type": "code",
    "id": "lUbjqWazbc1J",
    "outputId": "d0c4c626-11b5-45b1-d962-ad5bf33c8b31"
   },
   "outputs": [
    {
     "name": "stdout",
     "output_type": "stream",
     "text": [
      "iteration 0\n"
     ]
    },
    {
     "name": "stderr",
     "output_type": "stream",
     "text": [
      "/usr/local/lib/python3.6/dist-packages/ipykernel_launcher.py:17: DeprecationWarning: Call to deprecated `iter` (Attribute will be removed in 4.0.0, use self.epochs instead).\n"
     ]
    },
    {
     "name": "stdout",
     "output_type": "stream",
     "text": [
      "iteration 1\n",
      "iteration 2\n",
      "iteration 3\n",
      "iteration 4\n",
      "iteration 5\n",
      "iteration 6\n",
      "iteration 7\n",
      "iteration 8\n",
      "iteration 9\n",
      "iteration 10\n",
      "iteration 11\n",
      "iteration 12\n",
      "iteration 13\n",
      "iteration 14\n",
      "iteration 15\n",
      "iteration 16\n",
      "iteration 17\n",
      "iteration 18\n",
      "iteration 19\n"
     ]
    }
   ],
   "source": [
    "# Train the Doc2Vec model on the jobs_w2v corpus for 10 epochs\n",
    "# This is to determine word vectors for each word in the jobs corpus\n",
    "\n",
    "max_epochs = 20\n",
    "vec_size = 20\n",
    "alpha = 0.025\n",
    "\n",
    "model = Doc2Vec(vector_size=vec_size,\n",
    "                alpha=alpha, \n",
    "                min_alpha=0.00025,\n",
    "                min_count=1,\n",
    "                dm =1)\n",
    "  \n",
    "model.build_vocab(tagged_data)\n",
    "\n",
    "for epoch in range(max_epochs):\n",
    "    print('iteration {0}'.format(epoch))\n",
    "    model.train(tagged_data,\n",
    "                total_examples=model.corpus_count,\n",
    "                epochs=model.iter)\n",
    "    # decrease the learning rate\n",
    "    model.alpha -= 0.0002\n",
    "    # fix the learning rate, no decay\n",
    "    model.min_alpha = model.alpha\n"
   ]
  },
  {
   "cell_type": "code",
   "execution_count": 0,
   "metadata": {
    "colab": {
     "base_uri": "https://localhost:8080/",
     "height": 88
    },
    "colab_type": "code",
    "id": "LBtpUToDOVUE",
    "outputId": "660cd6db-1bda-4650-8e62-8159d41f542a"
   },
   "outputs": [
    {
     "name": "stderr",
     "output_type": "stream",
     "text": [
      "/usr/local/lib/python3.6/dist-packages/smart_open/smart_open_lib.py:402: UserWarning: This function is deprecated, use smart_open.open instead. See the migration notes for details: https://github.com/RaRe-Technologies/smart_open/blob/master/README.rst#migrating-to-the-new-open-function\n",
      "  'See the migration notes for details: %s' % _MIGRATION_NOTES_URL\n"
     ]
    },
    {
     "name": "stdout",
     "output_type": "stream",
     "text": [
      "Model Saved\n"
     ]
    }
   ],
   "source": [
    "# Saving the trained model\n",
    "\n",
    "model.save(\"d2v.model\")\n",
    "print(\"Model Saved\")"
   ]
  },
  {
   "cell_type": "code",
   "execution_count": 0,
   "metadata": {
    "colab": {
     "base_uri": "https://localhost:8080/",
     "height": 74,
     "resources": {
      "http://localhost:8080/nbextensions/google.colab/files.js": {
       "data": "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",
       "headers": [
        [
         "content-type",
         "application/javascript"
        ]
       ],
       "ok": true,
       "status": 200,
       "status_text": ""
      }
     }
    },
    "colab_type": "code",
    "id": "pGu_lIxYwqHt",
    "outputId": "6008352a-a809-4c22-c660-457b22f3e4e8"
   },
   "outputs": [
    {
     "data": {
      "text/html": [
       "\n",
       "     <input type=\"file\" id=\"files-72b16ac4-bd59-467c-bd2b-55a3e7937dfc\" name=\"files[]\" multiple disabled />\n",
       "     <output id=\"result-72b16ac4-bd59-467c-bd2b-55a3e7937dfc\">\n",
       "      Upload widget is only available when the cell has been executed in the\n",
       "      current browser session. Please rerun this cell to enable.\n",
       "      </output>\n",
       "      <script src=\"/nbextensions/google.colab/files.js\"></script> "
      ],
      "text/plain": [
       "<IPython.core.display.HTML object>"
      ]
     },
     "metadata": {
      "tags": []
     },
     "output_type": "display_data"
    },
    {
     "name": "stdout",
     "output_type": "stream",
     "text": [
      "Saving d2v.model to d2v.model\n"
     ]
    }
   ],
   "source": [
    "# Uploading the trained  model\n",
    "\n",
    "uploaded = files.upload()"
   ]
  },
  {
   "cell_type": "code",
   "execution_count": 7,
   "metadata": {
    "colab": {
     "base_uri": "https://localhost:8080/",
     "height": 71
    },
    "colab_type": "code",
    "id": "mALvQsvYLUns",
    "outputId": "55062933-b8ef-46f3-a46a-f7df4b1c9684"
   },
   "outputs": [
    {
     "name": "stderr",
     "output_type": "stream",
     "text": [
      "/usr/local/lib/python3.6/dist-packages/smart_open/smart_open_lib.py:402: UserWarning: This function is deprecated, use smart_open.open instead. See the migration notes for details: https://github.com/RaRe-Technologies/smart_open/blob/master/README.rst#migrating-to-the-new-open-function\n",
      "  'See the migration notes for details: %s' % _MIGRATION_NOTES_URL\n"
     ]
    }
   ],
   "source": [
    "# Loading the trained model\n",
    "\n",
    "model= Doc2Vec.load(\"d2v.model\")"
   ]
  },
  {
   "cell_type": "code",
   "execution_count": 0,
   "metadata": {
    "colab": {},
    "colab_type": "code",
    "id": "PBdXU8ca0gAx"
   },
   "outputs": [],
   "source": [
    "df_applicants_w2v = pd.read_csv('applicants_w2v.csv')\n",
    "df_applicants_w2v.fillna('[]', inplace=True)\n",
    "df_applicants_w2v.head(2)"
   ]
  },
  {
   "cell_type": "code",
   "execution_count": 0,
   "metadata": {
    "colab": {},
    "colab_type": "code",
    "id": "qBlLbz-A09Nt"
   },
   "outputs": [],
   "source": [
    "# Create a new column to contain the applicant info that will be used to make the recommendations\n",
    "\n",
    "# 1. Recommendation based on previous experience(s) only\n",
    "# df_applicants_w2v['Combined_info'] = df_applicants_w2v['Position_before'] +' '+ df_applicants_w2v['Description_before']    \n",
    "\n",
    "# 2. Recommendation based on job views only\n",
    "# df_applicants_w2v['Combined_info'] = df_applicants_w2v['Position_viewed']\n",
    "\n",
    "# 3. Recommendation based on position of interest only\n",
    "# df_applicants_w2v['Combined_info'] = df_applicants_w2v['POI']   \n",
    "\n",
    "# 4. Recommendation based on the combinations of previous information\n",
    "df_applicants_w2v['Combined_info'] = df_applicants_w2v['Position_before'] +' '+\\\n",
    "                                     df_applicants_w2v['Description_before'] +' '+\\\n",
    "                                     df_applicants_w2v['POI'] +' '+\\\n",
    "                                     df_applicants_w2v['Position_viewed']\n",
    "\n",
    "# 5. Recommendation based on the combinations of previous information\n",
    "#    - A filter is used to include only job that were viewed for certain time\n",
    "# df_applicants_w2v['Combined_info'] = df_applicants_w2v['Position_before'] +' '+\\\n",
    "#                                      df_applicants_w2v['Description_before'] +' '+\\\n",
    "#                                      df_applicants_w2v['POI'] +' '+\\\n",
    "#                                     df_applicants_w2v['Position_viewed'].where(df_applicants_w2v.View_Duration >= 30, '')\n",
    "\n",
    "df_applicants_w2v.head(2)"
   ]
  },
  {
   "cell_type": "code",
   "execution_count": 0,
   "metadata": {
    "colab": {},
    "colab_type": "code",
    "id": "VscSErFA0-b9"
   },
   "outputs": [],
   "source": [
    "df_applicants_w2v.head(2)"
   ]
  },
  {
   "cell_type": "code",
   "execution_count": 47,
   "metadata": {
    "colab": {
     "base_uri": "https://localhost:8080/",
     "height": 131
    },
    "colab_type": "code",
    "id": "EDuFd4aIsiB-",
    "outputId": "4e915e8f-6564-4d2a-9335-a8f4e1ef8ec3"
   },
   "outputs": [
    {
     "data": {
      "text/html": [
       "<div>\n",
       "<style scoped>\n",
       "    .dataframe tbody tr th:only-of-type {\n",
       "        vertical-align: middle;\n",
       "    }\n",
       "\n",
       "    .dataframe tbody tr th {\n",
       "        vertical-align: top;\n",
       "    }\n",
       "\n",
       "    .dataframe thead th {\n",
       "        text-align: right;\n",
       "    }\n",
       "</style>\n",
       "<table border=\"1\" class=\"dataframe\">\n",
       "  <thead>\n",
       "    <tr style=\"text-align: right;\">\n",
       "      <th></th>\n",
       "      <th>Applicant_ID</th>\n",
       "      <th>Position_before</th>\n",
       "      <th>Description_before</th>\n",
       "      <th>Position_viewed</th>\n",
       "      <th>POI</th>\n",
       "      <th>Combined_info</th>\n",
       "    </tr>\n",
       "  </thead>\n",
       "  <tbody>\n",
       "    <tr>\n",
       "      <th>1967</th>\n",
       "      <td>11883</td>\n",
       "      <td>ride operator</td>\n",
       "      <td>operating rides being friendly to guest being a team player</td>\n",
       "      <td>seasonal retail sales part time northridge ca northridge fashion center</td>\n",
       "      <td>barista</td>\n",
       "      <td>ride operator operating rides being friendly to guest being a team player  barista  seasonal retail sales part time northridge ca northridge fashion center</td>\n",
       "    </tr>\n",
       "  </tbody>\n",
       "</table>\n",
       "</div>"
      ],
      "text/plain": [
       "      Applicant_ID  ...                                                                                                                                                Combined_info\n",
       "1967  11883         ...  ride operator operating rides being friendly to guest being a team player  barista  seasonal retail sales part time northridge ca northridge fashion center\n",
       "\n",
       "[1 rows x 6 columns]"
      ]
     },
     "execution_count": 47,
     "metadata": {
      "tags": []
     },
     "output_type": "execute_result"
    }
   ],
   "source": [
    "# Print the selected user info\n",
    "\n",
    "user_profile = df_applicants_w2v.iloc[:,[0,1,5,6,-2,-1]][df_applicants_w2v.index == 1967]\n",
    "user_profile"
   ]
  },
  {
   "cell_type": "code",
   "execution_count": 48,
   "metadata": {
    "colab": {
     "base_uri": "https://localhost:8080/",
     "height": 408
    },
    "colab_type": "code",
    "id": "_ueGQ2U3t1Bw",
    "outputId": "0bc9b48e-edfc-4af2-ad8e-b361aa96f98e"
   },
   "outputs": [
    {
     "data": {
      "text/plain": [
       "['ride',\n",
       " 'operator',\n",
       " 'operating',\n",
       " 'rides',\n",
       " 'being',\n",
       " 'friendly',\n",
       " 'to',\n",
       " 'guest',\n",
       " 'being',\n",
       " 'a',\n",
       " 'team',\n",
       " 'player',\n",
       " 'barista',\n",
       " 'seasonal',\n",
       " 'retail',\n",
       " 'sales',\n",
       " 'part',\n",
       " 'time',\n",
       " 'northridge',\n",
       " 'ca',\n",
       " 'northridge',\n",
       " 'fashion',\n",
       " 'center']"
      ]
     },
     "execution_count": 48,
     "metadata": {
      "tags": []
     },
     "output_type": "execute_result"
    }
   ],
   "source": [
    "# Get and tokenize the applicant information\n",
    "\n",
    "user = df_applicants_w2v.iloc[:,:][df_applicants_w2v.index == 1967]\n",
    "user_data = user.iloc[0]['Combined_info']\n",
    "user_data = word_tokenize(user_data)\n",
    "user_data"
   ]
  },
  {
   "cell_type": "code",
   "execution_count": 0,
   "metadata": {
    "colab": {},
    "colab_type": "code",
    "id": "-1TXd_EKtfTx"
   },
   "outputs": [],
   "source": [
    "# Get the applicant data vectors from the trained model\n",
    "\n",
    "user_vector = model.infer_vector(user_data)"
   ]
  },
  {
   "cell_type": "code",
   "execution_count": 50,
   "metadata": {
    "colab": {
     "base_uri": "https://localhost:8080/",
     "height": 241
    },
    "colab_type": "code",
    "id": "XfdrsgLzv4Bp",
    "outputId": "3c8c0f4e-36bf-45cf-db1c-a27f7b25ffc4"
   },
   "outputs": [
    {
     "name": "stderr",
     "output_type": "stream",
     "text": [
      "/usr/local/lib/python3.6/dist-packages/gensim/matutils.py:737: FutureWarning: Conversion of the second argument of issubdtype from `int` to `np.signedinteger` is deprecated. In future, it will be treated as `np.int64 == np.dtype(int).type`.\n",
      "  if np.issubdtype(vec.dtype, np.int):\n"
     ]
    },
    {
     "data": {
      "text/plain": [
       "[('95685', 0.6694272756576538),\n",
       " ('168660', 0.6593121290206909),\n",
       " ('186212', 0.6585068106651306),\n",
       " ('6067', 0.6450024843215942),\n",
       " ('168667', 0.6444485783576965),\n",
       " ('57808', 0.6400918960571289),\n",
       " ('51153', 0.6374245882034302),\n",
       " ('277268', 0.6358883380889893),\n",
       " ('277049', 0.6336578130722046),\n",
       " ('2099', 0.632948637008667)]"
      ]
     },
     "execution_count": 50,
     "metadata": {
      "tags": []
     },
     "output_type": "execute_result"
    }
   ],
   "source": [
    "# Find the most similar documents between the applicant informationa and the jobs informations\n",
    "\n",
    "doc2vec_similarity = model.docvecs.most_similar([user_vector])\n",
    "doc2vec_similarity"
   ]
  },
  {
   "cell_type": "code",
   "execution_count": 51,
   "metadata": {
    "colab": {
     "base_uri": "https://localhost:8080/",
     "height": 34
    },
    "colab_type": "code",
    "id": "weyaDa0h7DyY",
    "outputId": "78949a4f-8986-4611-d160-39b6b17b0efb"
   },
   "outputs": [
    {
     "data": {
      "text/plain": [
       "[95685, 168660, 186212, 6067, 168667, 57808, 51153, 277268, 277049, 2099]"
      ]
     },
     "execution_count": 51,
     "metadata": {
      "tags": []
     },
     "output_type": "execute_result"
    }
   ],
   "source": [
    "doc2vec_best10_indices = [item[0] for item in doc2vec_similarity]\n",
    "doc2vec_similarity_scores = [item[1] for item in doc2vec_similarity]\n",
    "doc2vec_best10_indices = [int(item) for item in doc2vec_best10_indices]\n",
    "doc2vec_best10_indices"
   ]
  },
  {
   "cell_type": "code",
   "execution_count": 52,
   "metadata": {
    "colab": {
     "base_uri": "https://localhost:8080/",
     "height": 359
    },
    "colab_type": "code",
    "id": "9PgPQMyQ8Wwm",
    "outputId": "bc4071ed-914c-4442-af0f-82e1159af036"
   },
   "outputs": [
    {
     "data": {
      "text/html": [
       "<div>\n",
       "<style scoped>\n",
       "    .dataframe tbody tr th:only-of-type {\n",
       "        vertical-align: middle;\n",
       "    }\n",
       "\n",
       "    .dataframe tbody tr th {\n",
       "        vertical-align: top;\n",
       "    }\n",
       "\n",
       "    .dataframe thead th {\n",
       "        text-align: right;\n",
       "    }\n",
       "</style>\n",
       "<table border=\"1\" class=\"dataframe\">\n",
       "  <thead>\n",
       "    <tr style=\"text-align: right;\">\n",
       "      <th></th>\n",
       "      <th>Job_ID</th>\n",
       "      <th>Position</th>\n",
       "      <th>doc2vec_similarity_scores</th>\n",
       "    </tr>\n",
       "  </thead>\n",
       "  <tbody>\n",
       "    <tr>\n",
       "      <th>95685</th>\n",
       "      <td>66538253</td>\n",
       "      <td>bar team member</td>\n",
       "      <td>0.669427</td>\n",
       "    </tr>\n",
       "    <tr>\n",
       "      <th>168660</th>\n",
       "      <td>69077266</td>\n",
       "      <td>assistant manager</td>\n",
       "      <td>0.659312</td>\n",
       "    </tr>\n",
       "    <tr>\n",
       "      <th>186212</th>\n",
       "      <td>69551174</td>\n",
       "      <td>canteen assistant</td>\n",
       "      <td>0.658507</td>\n",
       "    </tr>\n",
       "    <tr>\n",
       "      <th>6067</th>\n",
       "      <td>145413</td>\n",
       "      <td>seasonal associate production and sales workers needed</td>\n",
       "      <td>0.645002</td>\n",
       "    </tr>\n",
       "    <tr>\n",
       "      <th>168667</th>\n",
       "      <td>69077395</td>\n",
       "      <td>assistant manager</td>\n",
       "      <td>0.644449</td>\n",
       "    </tr>\n",
       "    <tr>\n",
       "      <th>57808</th>\n",
       "      <td>287346</td>\n",
       "      <td>starbucks barista 0 5fte variable shifts starbucks issaquah</td>\n",
       "      <td>0.640092</td>\n",
       "    </tr>\n",
       "    <tr>\n",
       "      <th>51153</th>\n",
       "      <td>280696</td>\n",
       "      <td>opening restaurant crewmember cashier cook kitchen customer service drive thru</td>\n",
       "      <td>0.637425</td>\n",
       "    </tr>\n",
       "    <tr>\n",
       "      <th>277268</th>\n",
       "      <td>71764782</td>\n",
       "      <td>night porter</td>\n",
       "      <td>0.635888</td>\n",
       "    </tr>\n",
       "    <tr>\n",
       "      <th>277049</th>\n",
       "      <td>71761934</td>\n",
       "      <td>hotel housekeeper</td>\n",
       "      <td>0.633658</td>\n",
       "    </tr>\n",
       "    <tr>\n",
       "      <th>2099</th>\n",
       "      <td>140426</td>\n",
       "      <td>seasonal associate production and sales workers needed</td>\n",
       "      <td>0.632949</td>\n",
       "    </tr>\n",
       "  </tbody>\n",
       "</table>\n",
       "</div>"
      ],
      "text/plain": [
       "          Job_ID  ... doc2vec_similarity_scores\n",
       "95685   66538253  ...  0.669427                \n",
       "168660  69077266  ...  0.659312                \n",
       "186212  69551174  ...  0.658507                \n",
       "6067    145413    ...  0.645002                \n",
       "168667  69077395  ...  0.644449                \n",
       "57808   287346    ...  0.640092                \n",
       "51153   280696    ...  0.637425                \n",
       "277268  71764782  ...  0.635888                \n",
       "277049  71761934  ...  0.633658                \n",
       "2099    140426    ...  0.632949                \n",
       "\n",
       "[10 rows x 3 columns]"
      ]
     },
     "execution_count": 52,
     "metadata": {
      "tags": []
     },
     "output_type": "execute_result"
    }
   ],
   "source": [
    "# Create a datframe with the best matches\n",
    "\n",
    "doc2vec_best10_jobs = jobs_w2v.iloc[doc2vec_best10_indices,[5, 8]]\n",
    "doc2vec_best10_jobs['doc2vec_similarity_scores'] = doc2vec_similarity_scores\n",
    "doc2vec_best10_jobs"
   ]
  }
 ],
 "metadata": {
  "colab": {
   "collapsed_sections": [
    "98xgeqvpjlcJ",
    "TgvNNcyla-FP",
    "BH9Cq01vpmSy",
    "c4NERUaqdFzn",
    "90es0mbAhtWU",
    "icro1_Frdeis",
    "bPoWBESgg2jo",
    "45rBRzn7kv32",
    "DPmD73ZNlf-u",
    "U7MkiLhGvjuv",
    "X3Z3OGejwwlA",
    "knH7Gkw0xZMC",
    "SYMJ0br03LaZ"
   ],
   "name": "NLP_RECO_Doc2Vec.ipynb",
   "provenance": [],
   "toc_visible": true
  },
  "kernelspec": {
   "display_name": "Python 3",
   "language": "python",
   "name": "python3"
  },
  "language_info": {
   "codemirror_mode": {
    "name": "ipython",
    "version": 3
   },
   "file_extension": ".py",
   "mimetype": "text/x-python",
   "name": "python",
   "nbconvert_exporter": "python",
   "pygments_lexer": "ipython3",
   "version": "3.7.3"
  }
 },
 "nbformat": 4,
 "nbformat_minor": 1
}
