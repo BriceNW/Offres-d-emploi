{
 "cells": [
  {
   "cell_type": "markdown",
   "metadata": {
    "colab_type": "text",
    "id": "Y7j79Irm96Zw"
   },
   "source": [
    "#### Install and import libraries"
   ]
  },
  {
   "cell_type": "code",
   "execution_count": 0,
   "metadata": {
    "colab": {},
    "colab_type": "code",
    "id": "MEBzU6MDD383"
   },
   "outputs": [],
   "source": [
    "!pip install joblib"
   ]
  },
  {
   "cell_type": "code",
   "execution_count": 0,
   "metadata": {
    "colab": {},
    "colab_type": "code",
    "id": "89iejM35-Gk7"
   },
   "outputs": [],
   "source": [
    "import pandas as pd\n",
    "pd.set_option('display.max_colwidth', -1)\n",
    "\n",
    "import numpy as np\n",
    "import re\n",
    "\n",
    "import nltk\n",
    "nltk.download\n",
    "nltk.download('punkt')\n",
    "nltk.download('stopwords')\n",
    "nltk.download('wordnet')\n",
    "from nltk.corpus import stopwords\n",
    "from nltk.tokenize import word_tokenize\n",
    "from nltk.stem import WordNetLemmatizer\n",
    "\n",
    "from sklearn.feature_extraction.text import TfidfVectorizer\n",
    "from sklearn.metrics.pairwise import cosine_similarity\n",
    "from sklearn.neighbors import NearestNeighbors\n",
    "\n",
    "import joblib\n",
    "from sklearn.externals import joblib\n",
    "\n",
    "from google.colab import files"
   ]
  },
  {
   "cell_type": "markdown",
   "metadata": {
    "colab_type": "text",
    "id": "TgvNNcyla-FP"
   },
   "source": [
    "#### Upload files to azure cloud platform\n",
    "\n"
   ]
  },
  {
   "cell_type": "code",
   "execution_count": 0,
   "metadata": {
    "colab": {},
    "colab_type": "code",
    "id": "zzW_b7DrYQcy"
   },
   "outputs": [],
   "source": [
    "from azure.storage.blob import BlockBlobService\n",
    "\n",
    "account_name='bricen'\n",
    "account_key='N0ZNhw3i1xpnCxq5luWE2Sn3ZN88eKJn1PYqR3XxXR3nmqIzsD0rGWcL4Ul8AiSYciTqYHwugJPIxqfxWvKB9A=='\n",
    "\n",
    "service_blob = BlockBlobService(account_name, account_key) "
   ]
  },
  {
   "cell_type": "code",
   "execution_count": 0,
   "metadata": {
    "colab": {},
    "colab_type": "code",
    "id": "_UqEmNXra16I"
   },
   "outputs": [],
   "source": [
    "import glob\n",
    "\n",
    "files_to_upload = glob.glob('/content/*.csv')\n",
    "files_to_upload"
   ]
  },
  {
   "cell_type": "code",
   "execution_count": 0,
   "metadata": {
    "colab": {},
    "colab_type": "code",
    "id": "wqbecVoKZCLK"
   },
   "outputs": [],
   "source": [
    "service_blob.create_container('nlpreco')\n",
    "container_name = 'nlpreco'\n",
    "for item in files_to_upload:  \n",
    "  source_file_path = item\n",
    "  destination_file_path = item.rpartition('/')[-1]\n",
    "  service_blob.create_blob_from_path(container_name, destination_file_path, source_file_path)"
   ]
  },
  {
   "cell_type": "markdown",
   "metadata": {
    "colab_type": "text",
    "id": "wHsPrdp7_BJs"
   },
   "source": [
    "#### Upload files from local disk"
   ]
  },
  {
   "cell_type": "code",
   "execution_count": 0,
   "metadata": {
    "colab": {},
    "colab_type": "code",
    "id": "Er232qxC_Eck"
   },
   "outputs": [],
   "source": [
    "from google.colab import files\n",
    "uploaded = files.upload()"
   ]
  },
  {
   "cell_type": "markdown",
   "metadata": {
    "colab_type": "text",
    "id": "7V98J59ByHlK"
   },
   "source": [
    "- There are 5 datasets in total\n",
    "\n",
    "  - The *Combined_Jobs_Final.csv*, *Experience.csv*, *Job_Views.csv*, *Positions_Of_Interest.csv* datasets were taken from this [Kaggle Challenge](https://kaggle.com/kandij/job-recommendation-datasets)\n",
    "  - The *Jobs2.csv* dataset was taken from [here](https://www.kaggle.com/chadalee/text-analytics-explained-job-description-data/data)\n",
    "\n",
    "- These datasets can be separated in two groups:\n",
    "  - Jobs datasets (*Combined_Jobs_Final.csv*, *Train_rev1.csv* renamed as *Jobs2.csv*)\n",
    "  - Applicants datasets (*Experience.csv*, *Job_Views.csv*, *Positions_Of_Interest.csv*)\n",
    "\n",
    "- The following steps will consist of cleaning the datasets and combine them if they are in the same group\n"
   ]
  },
  {
   "cell_type": "markdown",
   "metadata": {
    "colab_type": "text",
    "id": "mZQWJ_aI4oCU"
   },
   "source": [
    "Here are the preprocessing steps to follow for each dataframe:\n",
    "- Drop unwanted columns\n",
    "- Impute missing values\n",
    "- Transform all text to lower case\n",
    "- Remove punctuation signs\n",
    "- Remove stop words\n",
    "- Tokenization\n",
    "- Lemmetization"
   ]
  },
  {
   "cell_type": "code",
   "execution_count": 0,
   "metadata": {
    "colab": {},
    "colab_type": "code",
    "id": "rQXEEpCP_9Bu"
   },
   "outputs": [],
   "source": [
    "# Preprocessing function\n",
    "\n",
    "def text_preproc(row):\n",
    "  stop_words = set(stopwords.words('english'))\n",
    "  lemmatizer = WordNetLemmatizer() \n",
    "\n",
    "  row = re.sub(r'\\W+', ' ', row)   # remove non aphanumeric characters\n",
    "  row = row.replace('\\r', '')      # remove \\r\n",
    "  row = row.replace('\\n', '')      # remove \\n\n",
    "  row = row.replace('\\d+', '')     # remove numbers\n",
    "  row = re.sub(r'[^\\w\\s]','', row) # remove punctuations\n",
    "  row = ' '.join([item for item in word_tokenize(row) if item not in stop_words]) # tokenization\n",
    "  row = row.lower()                # put all words in lowcase\n",
    "  row = lemmatizer.lemmatize(row)  # lemmatization\n",
    "  return row"
   ]
  },
  {
   "cell_type": "markdown",
   "metadata": {
    "colab_type": "text",
    "id": "np-Dp9-g0nL_"
   },
   "source": [
    "#### Clean the Combined_Jobs_Final dataframe"
   ]
  },
  {
   "cell_type": "code",
   "execution_count": 0,
   "metadata": {
    "colab": {},
    "colab_type": "code",
    "id": "zmAMDcWezkFi"
   },
   "outputs": [],
   "source": [
    "# csv file containing job offers info\n",
    "\n",
    "df_jobs = pd.read_csv('Combined_Jobs_Final.csv')\n",
    "df_jobs.head()"
   ]
  },
  {
   "cell_type": "code",
   "execution_count": 0,
   "metadata": {
    "colab": {},
    "colab_type": "code",
    "id": "wZhAtp9LUZOf"
   },
   "outputs": [],
   "source": [
    "# Drop unecessaray columns\n",
    "\n",
    "df_jobs.drop(columns=['Provider', \n",
    "                      'Status', \n",
    "                      'Slug', \n",
    "                      'State.Code', \n",
    "                      'Address', \n",
    "                      'Industry', \n",
    "                      'Requirements', \n",
    "                      'Salary', \n",
    "                      'Listing.Start', \n",
    "                      'Listing.End', \n",
    "                      'Created.At', \n",
    "                      'Updated.At'], inplace=True)"
   ]
  },
  {
   "cell_type": "code",
   "execution_count": 0,
   "metadata": {
    "colab": {},
    "colab_type": "code",
    "id": "izoMChzzBkmD"
   },
   "outputs": [],
   "source": [
    "# Rename columns\n",
    "\n",
    "df_jobs.rename(columns={'Job.ID':'Job_ID', \n",
    "                       'State.Name':'State', \n",
    "                       'Job.Description':'Description',\n",
    "                       'Employment.Type':'Employment',\n",
    "                       'Education.Required':'Education'}, inplace=True)"
   ]
  },
  {
   "cell_type": "code",
   "execution_count": 0,
   "metadata": {
    "colab": {},
    "colab_type": "code",
    "id": "XxSnvN2tkI1B"
   },
   "outputs": [],
   "source": [
    "# Change value in Employment column to be consistent\n",
    "\n",
    "df_jobs[\"Employment\"]= df_jobs.Employment.replace('Temporary/seasonal', 'Seasonal/Temp')"
   ]
  },
  {
   "cell_type": "code",
   "execution_count": 0,
   "metadata": {
    "colab": {},
    "colab_type": "code",
    "id": "pSiynsQeTXk-"
   },
   "outputs": [],
   "source": [
    "# Impute missing values\n",
    "\n",
    "df_jobs['Description'] = df_jobs.Description.fillna('')\n",
    "df_jobs['Employment'] = df_jobs.Employment.fillna('')\n",
    "df_jobs['Education'] = df_jobs.Education.fillna(df_jobs.Education.mode().iloc[0])\n",
    "df_jobs['Company'] = df_jobs.Company.fillna('')\n",
    "df_jobs['City'] = df_jobs.City.fillna('')\n",
    "df_jobs['State'] = df_jobs.State.fillna('')"
   ]
  },
  {
   "cell_type": "code",
   "execution_count": 0,
   "metadata": {
    "colab": {},
    "colab_type": "code",
    "id": "QrKrP1S8Afz3"
   },
   "outputs": [],
   "source": [
    "# Remove company name from the job title\n",
    "df_jobs['Title'] = df_jobs.apply(lambda x: x.Title.replace(x.Company, ''), axis=1)\n",
    "\n",
    "# Apply the text_preproc function to the columns with text\n",
    "df_jobs['Title'] = df_jobs.Title.apply(text_preproc)\n",
    "df_jobs['Position'] = df_jobs.Position.apply(text_preproc)\n",
    "df_jobs['Company'] = df_jobs.Company.apply(text_preproc)\n",
    "df_jobs['City'] = df_jobs.City.apply(text_preproc)\n",
    "df_jobs['State'] = df_jobs.State.apply(text_preproc)\n",
    "df_jobs['Description'] = df_jobs.Description.apply(text_preproc)\n",
    "df_jobs['Employment'] = df_jobs.Employment.apply(text_preproc)\n",
    "df_jobs['Education'] = df_jobs.Education.apply(text_preproc)"
   ]
  },
  {
   "cell_type": "markdown",
   "metadata": {
    "colab_type": "text",
    "id": "Y1w8JZKHZH6n"
   },
   "source": [
    "#### Cleaning the Jobs2 dataframe"
   ]
  },
  {
   "cell_type": "code",
   "execution_count": 0,
   "metadata": {
    "colab": {},
    "colab_type": "code",
    "id": "81VOqPw5Y2Sw"
   },
   "outputs": [],
   "source": [
    "# csv files containing ob offers info\n",
    "\n",
    "df_jobs2 = pd.read_csv('Jobs2.csv') \n",
    "df_jobs2.head(2)"
   ]
  },
  {
   "cell_type": "code",
   "execution_count": 0,
   "metadata": {
    "colab": {},
    "colab_type": "code",
    "id": "z36q2iDlbxEe"
   },
   "outputs": [],
   "source": [
    "# Drop unecessaray columns\n",
    "\n",
    "df_jobs2.drop(columns=['LocationRaw',\n",
    "                      'ContractTime',\n",
    "                      'Category', \n",
    "                      'SalaryRaw', \n",
    "                      'SalaryNormalized', \n",
    "                      'SourceName'], inplace=True)"
   ]
  },
  {
   "cell_type": "code",
   "execution_count": 0,
   "metadata": {
    "colab": {},
    "colab_type": "code",
    "id": "K0c53H22avQP"
   },
   "outputs": [],
   "source": [
    "# Rename columns\n",
    "\n",
    "df_jobs2.rename(columns={'Id':'Job_ID', \n",
    "                         'State.Name':'State', \n",
    "                         'FullDescription':'Description',\n",
    "                         'LocationNormalized':'City',\n",
    "                         'ContractType':'Employment'}, inplace=True)"
   ]
  },
  {
   "cell_type": "code",
   "execution_count": 0,
   "metadata": {
    "colab": {},
    "colab_type": "code",
    "id": "8tBrwy-AtEyS"
   },
   "outputs": [],
   "source": [
    "np.where(df_jobs2.Title.isna())"
   ]
  },
  {
   "cell_type": "code",
   "execution_count": 0,
   "metadata": {
    "colab": {},
    "colab_type": "code",
    "id": "J4lTIRSbHikL"
   },
   "outputs": [],
   "source": [
    "# Create new columns in df_jobs2 dataset to match that in df_jobs\n",
    "\n",
    "df_jobs2['Education'] = 'Not Specified'\n",
    "df_jobs2['Latitude'] = ''\n",
    "df_jobs2['Longitude'] = ''\n",
    "df_jobs2['State'] = ''\n",
    "\n",
    "# Change the Employment columns values of the df_jobs2 to match that of the df_jobs dataframe\n",
    "\n",
    "df_jobs2[\"Employment\"]= df_jobs2.Employment.replace('full_time', 'Full-Time')\n",
    "df_jobs2[\"Employment\"]= df_jobs2.Employment.replace('part_time', 'Part-Time')\n",
    "\n",
    "# Impute missing values\n",
    "\n",
    "df_jobs2['Employment'] = df_jobs2.Employment.fillna('')\n",
    "df_jobs2['Company'] = df_jobs2.Company.fillna('')\n",
    "\n",
    "# Impute a missing value based on the other columns\n",
    "\n",
    "df_jobs2.Title[1588] = 'Quality Improvement Manager'"
   ]
  },
  {
   "cell_type": "code",
   "execution_count": 0,
   "metadata": {
    "colab": {},
    "colab_type": "code",
    "id": "hvO2TZG3IpG5"
   },
   "outputs": [],
   "source": [
    "# Remove 'Position:' in the Job_Descriptions\n",
    "df_jobs2['Description'] = df_jobs2.Description.apply(lambda row: row.replace('Position:', ''))\n",
    "\n",
    "# Create the Position column\n",
    "df_jobs2['Position'] = df_jobs2.apply(lambda x: x.Title.replace(x.City, ''), axis=1)\n",
    "\n",
    "# Apply the text_preproc function to the columns with text\n",
    "df_jobs2['Title'] = df_jobs2.Title.apply(text_preproc)\n",
    "df_jobs2['Description'] = df_jobs2.Description.apply(text_preproc)\n",
    "df_jobs2['Position'] = df_jobs2.Position.apply(text_preproc)\n",
    "df_jobs2['City'] = df_jobs2.City.apply(text_preproc)\n",
    "df_jobs2['Employment'] = df_jobs2.Employment.apply(text_preproc)\n",
    "df_jobs2['Company'] = df_jobs2.Company.apply(text_preproc)\n",
    "df_jobs2['Education'] = df_jobs2.Education.apply(text_preproc)"
   ]
  },
  {
   "cell_type": "code",
   "execution_count": 0,
   "metadata": {
    "colab": {},
    "colab_type": "code",
    "id": "tVb-U-zaK5Pb"
   },
   "outputs": [],
   "source": [
    "# Reorganize columns orders to match df_jobs\n",
    "\n",
    "df_jobs2 = df_jobs2[['Job_ID', 'Title', 'Position', 'Company', 'City', 'State', 'Latitude', 'Longitude', 'Description', 'Employment', 'Education']]"
   ]
  },
  {
   "cell_type": "code",
   "execution_count": 0,
   "metadata": {
    "colab": {},
    "colab_type": "code",
    "id": "1OxZtzFYSQRa"
   },
   "outputs": [],
   "source": [
    "df_jobs2.head(2)"
   ]
  },
  {
   "cell_type": "markdown",
   "metadata": {
    "colab_type": "text",
    "id": "DBdtg5hNfAea"
   },
   "source": [
    "#### Concatenate the two jobs datasets"
   ]
  },
  {
   "cell_type": "code",
   "execution_count": 0,
   "metadata": {
    "colab": {},
    "colab_type": "code",
    "id": "OAML6Bl5PUUd"
   },
   "outputs": [],
   "source": [
    "jobs_dataset = pd.concat([df_jobs, df_jobs2], ignore_index=True)\n",
    "jobs_dataset.drop(columns=['Title'], inplace=True)\n",
    "jobs_dataset.to_csv(\"jobs.csv\", index=False)"
   ]
  },
  {
   "cell_type": "code",
   "execution_count": 0,
   "metadata": {
    "colab": {},
    "colab_type": "code",
    "id": "-_c7i8AdDCZH"
   },
   "outputs": [],
   "source": [
    "# download the job dataset for the TFIDF modelon local disk\n",
    "\n",
    "files.download('jobs.csv')"
   ]
  },
  {
   "cell_type": "code",
   "execution_count": 0,
   "metadata": {
    "colab": {},
    "colab_type": "code",
    "id": "MxJtJQ33beOm"
   },
   "outputs": [],
   "source": [
    "# Upload the job dataset for the TFIDF model to Azure cloud platform\n",
    "\n",
    "from azure.storage.blob import BlockBlobService\n",
    "\n",
    "account_name='bricen'\n",
    "account_key='N0ZNhw3i1xpnCxq5luWE2Sn3ZN88eKJn1PYqR3XxXR3nmqIzsD0rGWcL4Ul8AiSYciTqYHwugJPIxqfxWvKB9A=='\n",
    "service_blob = BlockBlobService(account_name, account_key)\n",
    "\n",
    "import glob\n",
    "files_to_upload = 'jobs.csv'\n",
    "files_to_upload\n",
    "\n",
    "container_name = 'nlpreco'\n",
    "for item in files_to_upload:  \n",
    "  source_file_path = files_to_upload\n",
    "  destination_file_path = 'jobs.csv'\n",
    "  service_blob.create_blob_from_path(container_name, destination_file_path, source_file_path)\n",
    "  service_blob.create_blob_from_path(container_name, destination_file_path, source_file_path)"
   ]
  },
  {
   "cell_type": "markdown",
   "metadata": {
    "colab_type": "text",
    "id": "7nptnrjQe137"
   },
   "source": [
    "#### Clean the Experience dataframe"
   ]
  },
  {
   "cell_type": "code",
   "execution_count": 0,
   "metadata": {
    "colab": {},
    "colab_type": "code",
    "id": "3XP_h8Dt1E0u"
   },
   "outputs": [],
   "source": [
    "# csv file containing the professional experience of the Applicants\n",
    "\n",
    "df_exp = pd.read_csv('Experience.csv')\n",
    "df_exp.head(2)"
   ]
  },
  {
   "cell_type": "code",
   "execution_count": 0,
   "metadata": {
    "colab": {},
    "colab_type": "code",
    "id": "-RbnYuScFRsy"
   },
   "outputs": [],
   "source": [
    "# Drop unecessaray columns\n",
    "\n",
    "df_exp.drop(columns=['State.Code',\n",
    "                     'Start.Date',\n",
    "                      'End.Date',\n",
    "                      'Salary', \n",
    "                      'Can.Contact.Employer', \n",
    "                      'Created.At', \n",
    "                      'Updated.At'], inplace=True)"
   ]
  },
  {
   "cell_type": "code",
   "execution_count": 0,
   "metadata": {
    "colab": {},
    "colab_type": "code",
    "id": "gZl3XhkQLRKB"
   },
   "outputs": [],
   "source": [
    "# Rename columns\n",
    "\n",
    "df_exp.rename(columns={'Applicant.ID':'Applicant_ID', \n",
    "                       'Employer.Name':'Company', \n",
    "                       'Position.Name':'Position', \n",
    "                       'Job.Description':'Description', \n",
    "                       'State.Name':'State'}, inplace=True)"
   ]
  },
  {
   "cell_type": "code",
   "execution_count": 0,
   "metadata": {
    "colab": {},
    "colab_type": "code",
    "id": "cC-dzhAZNFoa"
   },
   "outputs": [],
   "source": [
    "# Impute missing values\n",
    "\n",
    "df_exp['Position'] = df_exp.Position.fillna('')\n",
    "df_exp['Company'] = df_exp.Company.fillna('')\n",
    "df_exp['City'] = df_exp.City.fillna('')\n",
    "df_exp['State'] = df_exp.State.fillna('')\n",
    "df_exp['Description'] = df_exp.Description.fillna('')"
   ]
  },
  {
   "cell_type": "code",
   "execution_count": 0,
   "metadata": {
    "colab": {},
    "colab_type": "code",
    "id": "KxgOOEaFgfR6"
   },
   "outputs": [],
   "source": [
    "# Apply the text_preproc function to the columns with text\n",
    "\n",
    "df_exp['Position'] = df_exp.Position.apply(text_preproc)\n",
    "df_exp['Company'] = df_exp.Company.apply(text_preproc)\n",
    "df_exp['City'] = df_exp.City.apply(text_preproc)\n",
    "df_exp['State'] = df_exp.State.apply(text_preproc)\n",
    "df_exp['Description'] = df_exp.Description.apply(text_preproc)"
   ]
  },
  {
   "cell_type": "code",
   "execution_count": 0,
   "metadata": {
    "colab": {},
    "colab_type": "code",
    "id": "K4LvwMAPeLiE"
   },
   "outputs": [],
   "source": [
    "# Add a suffix to the column names of the experience dataset\n",
    "\n",
    "col_names = ['Position', 'Company', 'City', 'State', 'Description']\n",
    "col_new_names = [name+'_before' for name in col_names]\n",
    "   \n",
    "for i in range(len(col_names)):\n",
    "  df_exp.rename(columns={col_names[i]:col_new_names[i]}, inplace=True)"
   ]
  },
  {
   "cell_type": "markdown",
   "metadata": {
    "colab_type": "text",
    "id": "69Vmb-yGThiO"
   },
   "source": [
    "#### Clean the *Job_views* dataframe\n",
    "\n"
   ]
  },
  {
   "cell_type": "code",
   "execution_count": 0,
   "metadata": {
    "colab": {},
    "colab_type": "code",
    "id": "v_mx0NlaTm62"
   },
   "outputs": [],
   "source": [
    "# csv file containing info about the job viewed by the applicants\n",
    "\n",
    "df_views = pd.read_csv('Job_Views.csv')\n",
    "df_views.head(2)"
   ]
  },
  {
   "cell_type": "code",
   "execution_count": 0,
   "metadata": {
    "colab": {},
    "colab_type": "code",
    "id": "DbdxrIrBbd0i"
   },
   "outputs": [],
   "source": [
    "# Drop unecessaray columns\n",
    "\n",
    "df_views.drop(columns=['Title',\n",
    "                       'Job.ID',\n",
    "                       'State.Code',\n",
    "                       'Industry',\n",
    "                       'View.Start',\n",
    "                       'View.End', \n",
    "                       'Created.At', \n",
    "                       'Updated.At'], inplace=True)"
   ]
  },
  {
   "cell_type": "code",
   "execution_count": 0,
   "metadata": {
    "colab": {},
    "colab_type": "code",
    "id": "JIot_OOe-SAp"
   },
   "outputs": [],
   "source": [
    "# Rename columns\n",
    "\n",
    "df_views.rename(columns={'Applicant.ID':'Applicant_ID',\n",
    "                         'State.Name':'State',\n",
    "                         'View.Duration':'View_Duration'}, inplace=True)"
   ]
  },
  {
   "cell_type": "code",
   "execution_count": 0,
   "metadata": {
    "colab": {
     "base_uri": "https://localhost:8080/",
     "height": 297
    },
    "colab_type": "code",
    "id": "NC8IFybV78ps",
    "outputId": "3e7ebc34-2cf2-47d4-8af0-78872dba7c9c"
   },
   "outputs": [
    {
     "data": {
      "text/plain": [
       "<matplotlib.axes._subplots.AxesSubplot at 0x7f74d1ec4128>"
      ]
     },
     "execution_count": 143,
     "metadata": {
      "tags": []
     },
     "output_type": "execute_result"
    },
    {
     "data": {
      "image/png": "[encoded data removed]",
      "text/plain": [
       "<Figure size 432x288 with 1 Axes>"
      ]
     },
     "metadata": {
      "tags": []
     },
     "output_type": "display_data"
    }
   ],
   "source": [
    "sns.boxplot(df_views.View_Duration)"
   ]
  },
  {
   "cell_type": "code",
   "execution_count": 0,
   "metadata": {
    "colab": {},
    "colab_type": "code",
    "id": "FNmv49cSbZl8"
   },
   "outputs": [],
   "source": [
    "# Impute missing values\n",
    "\n",
    "df_views['Company'] = df_views.Company.fillna('')\n",
    "df_views['State'] = df_views.State.fillna('')\n",
    "df_views['View_Duration'] = df_views.View_Duration.fillna(df_views.View_Duration.median())"
   ]
  },
  {
   "cell_type": "code",
   "execution_count": 0,
   "metadata": {
    "colab": {},
    "colab_type": "code",
    "id": "yBkpunyVVhEF"
   },
   "outputs": [],
   "source": [
    "df_views.head(2)"
   ]
  },
  {
   "cell_type": "code",
   "execution_count": 0,
   "metadata": {
    "colab": {},
    "colab_type": "code",
    "id": "rKEntIs2lXQ6"
   },
   "outputs": [],
   "source": [
    "# Remove Company name from Position\n",
    "df_views['Position'] = df_views.apply(lambda x: x.Position.replace(x.Company, ''), axis=1)\n",
    "\n",
    "# Apply the text_preproc function to the columns with text\n",
    "df_views['Position'] = df_views.Position.apply(text_preproc)\n",
    "df_views['Company'] = df_views.Company.apply(text_preproc)\n",
    "df_views['City'] = df_views.City.apply(text_preproc)\n",
    "df_views['State'] = df_views.State.apply(text_preproc)"
   ]
  },
  {
   "cell_type": "code",
   "execution_count": 0,
   "metadata": {
    "colab": {},
    "colab_type": "code",
    "id": "exbxR4CP_pTC"
   },
   "outputs": [],
   "source": [
    "# Add a suffix to the column names of the df_views dataset\n",
    "\n",
    "col_names = ['Position', 'Company', 'City', 'State']\n",
    "col_new_names = [name+'_viewed' for name in col_names]\n",
    "   \n",
    "for i in range(len(col_names)):\n",
    "  df_views.rename(columns={col_names[i]:col_new_names[i]}, inplace=True)"
   ]
  },
  {
   "cell_type": "code",
   "execution_count": 0,
   "metadata": {
    "colab": {},
    "colab_type": "code",
    "id": "iDulFLyIl4rC"
   },
   "outputs": [],
   "source": [
    "df_views.head(2)"
   ]
  },
  {
   "cell_type": "markdown",
   "metadata": {
    "colab_type": "text",
    "id": "Lr4NTsq8g8qu"
   },
   "source": [
    "#### Cleaning the *Positions_Of_Interest* dataframe\n"
   ]
  },
  {
   "cell_type": "code",
   "execution_count": 0,
   "metadata": {
    "colab": {},
    "colab_type": "code",
    "id": "vdYRK1gDUr3K"
   },
   "outputs": [],
   "source": [
    "# csv file containing the jobs positions of interest for the applicants\n",
    "\n",
    "df_poi = pd.read_csv('Positions_Of_Interest.csv')\n",
    "df_poi.head(2)"
   ]
  },
  {
   "cell_type": "code",
   "execution_count": 0,
   "metadata": {
    "colab": {},
    "colab_type": "code",
    "id": "gn5FEvmjemtL"
   },
   "outputs": [],
   "source": [
    "# Drop columns\n",
    "\n",
    "df_poi.drop(columns=['Created.At', 'Updated.At'], inplace=True)\n",
    "df_poi['POI'] = df_poi.POI.fillna('')\n",
    "\n",
    "# Rename columns\n",
    "\n",
    "df_poi.rename(columns={'Applicant.ID':'Applicant_ID',\n",
    "                       'Position.Of.Interest':'POI'}, inplace=True)"
   ]
  },
  {
   "cell_type": "code",
   "execution_count": 0,
   "metadata": {
    "colab": {},
    "colab_type": "code",
    "id": "r6ifS_KfG0iC"
   },
   "outputs": [],
   "source": [
    "# Apply the text_preproc function to the columns with text\n",
    "\n",
    "df_poi['POI'] = df_poi.POI.apply(text_preproc)"
   ]
  },
  {
   "cell_type": "markdown",
   "metadata": {
    "colab_type": "text",
    "id": "T2TDMKEnhKgQ"
   },
   "source": [
    "#### Join the three applicants datasets (df_poi, df_exp, and df_views) by Applicant_ID column"
   ]
  },
  {
   "cell_type": "code",
   "execution_count": 0,
   "metadata": {
    "colab": {},
    "colab_type": "code",
    "id": "1IWMzL5dhgTZ"
   },
   "outputs": [],
   "source": [
    "df_applicants = pd.merge(pd.merge(df_exp, df_views, on='Applicant_ID'), df_poi, on='Applicant_ID')\n",
    "df_applicants.head()"
   ]
  },
  {
   "cell_type": "code",
   "execution_count": 0,
   "metadata": {
    "colab": {},
    "colab_type": "code",
    "id": "qH9sVD_ghR65"
   },
   "outputs": [],
   "source": [
    "df_applicants.to_csv(\"applicants.csv\", index=False)"
   ]
  },
  {
   "cell_type": "code",
   "execution_count": 0,
   "metadata": {
    "colab": {},
    "colab_type": "code",
    "id": "XPEqR2ZhFV0C"
   },
   "outputs": [],
   "source": [
    "# download the apllicant dataset for the TFIDF model to store on local disk\n",
    "\n",
    "files.download('df_applicants.csv')"
   ]
  },
  {
   "cell_type": "code",
   "execution_count": 0,
   "metadata": {
    "colab": {},
    "colab_type": "code",
    "id": "QBhQ57mfhafl"
   },
   "outputs": [],
   "source": [
    "# Upload the applicant dataset for the TFIDF model to Azure cloud platform\n",
    "\n",
    "from azure.storage.blob import BlockBlobService\n",
    "\n",
    "account_name='bricen'\n",
    "account_key='N0ZNhw3i1xpnCxq5luWE2Sn3ZN88eKJn1PYqR3XxXR3nmqIzsD0rGWcL4Ul8AiSYciTqYHwugJPIxqfxWvKB9A=='\n",
    "service_blob = BlockBlobService(account_name, account_key)\n",
    "\n",
    "import glob\n",
    "files_to_upload = 'applicants.csv'\n",
    "files_to_upload\n",
    "\n",
    "container_name = 'nlpreco'\n",
    "for item in files_to_upload:  \n",
    "  source_file_path = files_to_upload\n",
    "  destination_file_path = 'applicants.csv'\n",
    "  service_blob.create_blob_from_path(container_name, destination_file_path, source_file_path)\n",
    "  service_blob.create_blob_from_path(container_name, destination_file_path, source_file_path)"
   ]
  },
  {
   "cell_type": "markdown",
   "metadata": {
    "colab_type": "text",
    "id": "-8MQzddVHWN7"
   },
   "source": [
    "#### Load the jobs and applicants datasets"
   ]
  },
  {
   "cell_type": "code",
   "execution_count": 3,
   "metadata": {
    "colab": {
     "base_uri": "https://localhost:8080/",
     "height": 108,
     "resources": {
      "http://localhost:8080/nbextensions/google.colab/files.js": {
       "data": "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",
       "headers": [
        [
         "content-type",
         "application/javascript"
        ]
       ],
       "ok": true,
       "status": 200,
       "status_text": ""
      }
     }
    },
    "colab_type": "code",
    "id": "TeRkL-OBFj8m",
    "outputId": "12dfdcf8-216a-4907-fb6f-3c85939749b2"
   },
   "outputs": [
    {
     "data": {
      "text/html": [
       "\n",
       "     <input type=\"file\" id=\"files-120708a5-0e94-477c-a689-e16ca2d7009f\" name=\"files[]\" multiple disabled />\n",
       "     <output id=\"result-120708a5-0e94-477c-a689-e16ca2d7009f\">\n",
       "      Upload widget is only available when the cell has been executed in the\n",
       "      current browser session. Please rerun this cell to enable.\n",
       "      </output>\n",
       "      <script src=\"/nbextensions/google.colab/files.js\"></script> "
      ],
      "text/plain": [
       "<IPython.core.display.HTML object>"
      ]
     },
     "metadata": {
      "tags": []
     },
     "output_type": "display_data"
    },
    {
     "name": "stdout",
     "output_type": "stream",
     "text": [
      "Saving applicants.csv to applicants.csv\n",
      "Saving jobs.csv to jobs.csv\n"
     ]
    }
   ],
   "source": [
    "# upload the files from local disk\n",
    "\n",
    "from google.colab import files\n",
    "uploaded = files.upload()"
   ]
  },
  {
   "cell_type": "code",
   "execution_count": 0,
   "metadata": {
    "colab": {},
    "colab_type": "code",
    "id": "NQWo6uQKHUTG"
   },
   "outputs": [],
   "source": [
    "# Upload files from azure cloud platform\n",
    "\n",
    "from azure.storage.blob import BlockBlobService\n",
    "\n",
    "account_name='bricen'\n",
    "account_key='N0ZNhw3i1xpnCxq5luWE2Sn3ZN88eKJn1PYqR3XxXR3nmqIzsD0rGWcL4Ul8AiSYciTqYHwugJPIxqfxWvKB9A=='\n",
    "\n",
    "service_blob = BlockBlobService(account_name, account_key) "
   ]
  },
  {
   "cell_type": "code",
   "execution_count": 0,
   "metadata": {
    "colab": {},
    "colab_type": "code",
    "id": "5vw33IbrHc6J"
   },
   "outputs": [],
   "source": [
    "container_name = 'nlpreco'\n",
    "files_list = ['jobs.csv', 'applicants.csv']"
   ]
  },
  {
   "cell_type": "code",
   "execution_count": 0,
   "metadata": {
    "colab": {},
    "colab_type": "code",
    "id": "5mltrl2tHf_a"
   },
   "outputs": [],
   "source": [
    "for filename in files_list:\n",
    "  source_file_path = filename\n",
    "  destination_file_path = '/content/{}'.format(filename)\n",
    "  \n",
    "  service_blob.get_blob_to_path(container_name, source_file_path, destination_file_path)"
   ]
  },
  {
   "cell_type": "markdown",
   "metadata": {
    "colab_type": "text",
    "id": "FD-mjhA0mBcs"
   },
   "source": [
    "#### Make job recommandation model using TFIDF\n",
    "- We need a combined text column for both final datasets\n",
    "- We will try different combinations to see how it affects the recommendations"
   ]
  },
  {
   "cell_type": "code",
   "execution_count": 0,
   "metadata": {
    "colab": {},
    "colab_type": "code",
    "id": "K8rtR0JkmACI"
   },
   "outputs": [],
   "source": [
    "df_jobs = pd.read_csv('jobs.csv', low_memory=False)\n",
    "df_jobs.fillna('', inplace=True)\n",
    "df_jobs.head(2)"
   ]
  },
  {
   "cell_type": "code",
   "execution_count": 0,
   "metadata": {
    "colab": {},
    "colab_type": "code",
    "id": "T_inWryBsm5r"
   },
   "outputs": [],
   "source": [
    "#jobs.drop(columns=['Company', 'Latitude', 'Longitude', 'Employment', 'Education'], inplace=True)\n",
    "#jobs.to_csv(\"job_list.csv\", index=False)"
   ]
  },
  {
   "cell_type": "code",
   "execution_count": 0,
   "metadata": {
    "colab": {},
    "colab_type": "code",
    "id": "EGj93K13tQlk"
   },
   "outputs": [],
   "source": [
    "# Create a new column to contain the combined jobs information\n",
    "\n",
    "df_jobs['Combined_info'] = df_jobs['Position'] + df_jobs['Description']\n",
    "df_jobs.head(2)"
   ]
  },
  {
   "cell_type": "code",
   "execution_count": 0,
   "metadata": {
    "colab": {},
    "colab_type": "code",
    "id": "GxLqMLgsIWuv"
   },
   "outputs": [],
   "source": [
    "df_applicants = pd.read_csv('applicants.csv')\n",
    "df_applicants.fillna('', inplace=True)\n",
    "df_applicants.head(2)"
   ]
  },
  {
   "cell_type": "code",
   "execution_count": 0,
   "metadata": {
    "colab": {},
    "colab_type": "code",
    "id": "e7mMTsscnO7K"
   },
   "outputs": [],
   "source": [
    "# 1. Recommendation based on previous experience(s)\n",
    "\n",
    "# df_applicants['Combined_info'] = df_applicants['Position_before'] +' '+ df_applicants['Description_before']    \n",
    "\n",
    "# 2. Recommendation based on job views only\n",
    "\n",
    "# df_applicants['Combined_info'] = df_applicants['Position_viewed']\n",
    "\n",
    "# 3. Recommendation based on position of interest only\n",
    "\n",
    "# df_applicants['Combined_info'] = df_applicants['POI']   \n",
    "\n",
    "# 4. Recommendation based on the combinations of previous information\n",
    "\n",
    "df_applicants['Combined_info'] = df_applicants['Position_before'] +' '+\\\n",
    "                                 df_applicants['Description_before'] +' '+\\\n",
    "                                 df_applicants['POI'] +' '+\\\n",
    "                                 df_applicants['Position_viewed']\n",
    "\n",
    "# 5. Recommendation based on the combinations of previous information\n",
    "#    A filter is used to include only job that were viewed for certain duration\n",
    "\n",
    "# df_applicants['Combined_info'] = df_applicants['Position_before'] +' '+\\\n",
    "#                                   df_applicants['Description_before'] +' '+\\\n",
    "#                                   df_applicants['POI'] +' '+\\\n",
    "#                                   df_applicants['Position_viewed'].where(df_applicants_w2v.View_Duration >= 30, '')\n",
    "\n",
    "df_applicants.head(2)"
   ]
  },
  {
   "cell_type": "code",
   "execution_count": 0,
   "metadata": {
    "colab": {},
    "colab_type": "code",
    "id": "IrRGJsI4SAkv"
   },
   "outputs": [],
   "source": [
    "# Fit the tfidf_vectorizer on all the jobs informations\n",
    "\n",
    "tfidf_vectorizer = TfidfVectorizer()\n",
    "vectorizer = tfidf_vectorizer.fit(df_jobs['Combined_info'])\n",
    "jobs_vectors = vectorizer.transform(df_jobs['Combined_info'])"
   ]
  },
  {
   "cell_type": "code",
   "execution_count": 0,
   "metadata": {
    "colab": {},
    "colab_type": "code",
    "id": "fZtirkK4KS2I"
   },
   "outputs": [],
   "source": [
    "# Save the fitted tfidf_vectorizer and the word vectors of the jobs text to pickle files\n",
    "\n",
    "#joblib.dump(vectorizer, 'vectorizer.pkl')\n",
    "#joblib.dump(jobs_vectors, 'jobs_vectors.pkl')"
   ]
  },
  {
   "cell_type": "code",
   "execution_count": 0,
   "metadata": {
    "colab": {},
    "colab_type": "code",
    "id": "KeZKJjhWa9VP"
   },
   "outputs": [],
   "source": [
    "# Download the pickle files to local disk\n",
    "\n",
    "# files.download('vectorizer.pkl')\n",
    "# files.download('jobs_vectors.pkl')"
   ]
  },
  {
   "cell_type": "code",
   "execution_count": 0,
   "metadata": {
    "colab": {},
    "colab_type": "code",
    "id": "hY6K4V-HzvBV"
   },
   "outputs": [],
   "source": [
    "# Select a random applicant and get the word vectors of its text using the tfidf_vectorizer fitted to the jobs texts\n",
    "\n",
    "#user = applicants_info.sample()\n",
    "user = df_applicants.iloc[:,:][df_applicants.index == 1967]\n",
    "user_vectors = tfidf_vectorizer.transform(user['Combined_info'])"
   ]
  },
  {
   "cell_type": "code",
   "execution_count": 0,
   "metadata": {
    "colab": {},
    "colab_type": "code",
    "id": "Ux4fb1Q-1uqq"
   },
   "outputs": [],
   "source": [
    "# Calculate the cosine similarity function between the user info and the jobs info\n",
    "\n",
    "tfidf_similarity = cosine_similarity(user_vectors, jobs_vectors).flatten()\n",
    "\n",
    "# Works also using KNN, give slightly similar recommendations. \n",
    "# Remember that for KNN, close to 0 means very similar\n",
    "\n",
    "# KNN = NearestNeighbors(10, algorithm='auto', metric='cosine')\n",
    "# KNN.fit(jobs_vectors)\n",
    "# N_neighbors = KNN.kneighbors(user_vectors, return_distance=True)\n",
    "# best10_indices = N_neighbors[1]\n",
    "# best10_indices = best10_indices.reshape(10)\n",
    "# knn_scores = N_neighbors[0].reshape(10)\n",
    "# best10_jobs = jobs.iloc[best10_indices,[0, 1, 2, 3]]"
   ]
  },
  {
   "cell_type": "code",
   "execution_count": 48,
   "metadata": {
    "colab": {
     "base_uri": "https://localhost:8080/",
     "height": 173
    },
    "colab_type": "code",
    "id": "_ub33C8z4aJi",
    "outputId": "5eff4e2d-57f5-49d8-c7da-8d0a48cabb10"
   },
   "outputs": [
    {
     "data": {
      "text/html": [
       "<div>\n",
       "<style scoped>\n",
       "    .dataframe tbody tr th:only-of-type {\n",
       "        vertical-align: middle;\n",
       "    }\n",
       "\n",
       "    .dataframe tbody tr th {\n",
       "        vertical-align: top;\n",
       "    }\n",
       "\n",
       "    .dataframe thead th {\n",
       "        text-align: right;\n",
       "    }\n",
       "</style>\n",
       "<table border=\"1\" class=\"dataframe\">\n",
       "  <thead>\n",
       "    <tr style=\"text-align: right;\">\n",
       "      <th></th>\n",
       "      <th>Job_ID</th>\n",
       "      <th>Position</th>\n",
       "    </tr>\n",
       "  </thead>\n",
       "  <tbody>\n",
       "    <tr>\n",
       "      <th>1106</th>\n",
       "      <td>137366</td>\n",
       "      <td>servers waiters waitresses wait staff</td>\n",
       "    </tr>\n",
       "    <tr>\n",
       "      <th>23504</th>\n",
       "      <td>253033</td>\n",
       "      <td>ride operator</td>\n",
       "    </tr>\n",
       "    <tr>\n",
       "      <th>67656</th>\n",
       "      <td>301422</td>\n",
       "      <td>rides lead</td>\n",
       "    </tr>\n",
       "    <tr>\n",
       "      <th>29266</th>\n",
       "      <td>258796</td>\n",
       "      <td>ride mechanic</td>\n",
       "    </tr>\n",
       "  </tbody>\n",
       "</table>\n",
       "</div>"
      ],
      "text/plain": [
       "       Job_ID                               Position\n",
       "1106   137366  servers waiters waitresses wait staff\n",
       "23504  253033  ride operator                        \n",
       "67656  301422  rides lead                           \n",
       "29266  258796  ride mechanic                        "
      ]
     },
     "execution_count": 48,
     "metadata": {
      "tags": []
     },
     "output_type": "execute_result"
    }
   ],
   "source": [
    "# Get the 10 best matches and their scores\n",
    "\n",
    "best10_indices = tfidf_similarity.argsort()[:-5:-1]\n",
    "tfidf_similarity_scores = tfidf_similarity[best10_indices]\n",
    "\n",
    "# Create a dataset containing the best 10 jobs corresponding to the applicant's profile\n",
    "\n",
    "best10_jobs = jobs.iloc[best10_indices,[0, 1]]\n",
    "best10_jobs"
   ]
  },
  {
   "cell_type": "code",
   "execution_count": 50,
   "metadata": {
    "colab": {
     "base_uri": "https://localhost:8080/",
     "height": 131
    },
    "colab_type": "code",
    "id": "on_mKl3d2g9d",
    "outputId": "9e4a2774-73ce-49b5-ae3d-27218a3a4839"
   },
   "outputs": [
    {
     "data": {
      "text/html": [
       "<div>\n",
       "<style scoped>\n",
       "    .dataframe tbody tr th:only-of-type {\n",
       "        vertical-align: middle;\n",
       "    }\n",
       "\n",
       "    .dataframe tbody tr th {\n",
       "        vertical-align: top;\n",
       "    }\n",
       "\n",
       "    .dataframe thead th {\n",
       "        text-align: right;\n",
       "    }\n",
       "</style>\n",
       "<table border=\"1\" class=\"dataframe\">\n",
       "  <thead>\n",
       "    <tr style=\"text-align: right;\">\n",
       "      <th></th>\n",
       "      <th>Applicant_ID</th>\n",
       "      <th>Position_before</th>\n",
       "      <th>Description_before</th>\n",
       "      <th>Position_viewed</th>\n",
       "      <th>POI</th>\n",
       "      <th>Combined_info</th>\n",
       "    </tr>\n",
       "  </thead>\n",
       "  <tbody>\n",
       "    <tr>\n",
       "      <th>1967</th>\n",
       "      <td>11883</td>\n",
       "      <td>ride operator</td>\n",
       "      <td>operating rides friendly guest team player</td>\n",
       "      <td>seasonal retail sales part time northridge ca northridge fashion center</td>\n",
       "      <td>barista</td>\n",
       "      <td>ride operator operating rides friendly guest team player barista seasonal retail sales part time northridge ca northridge fashion center</td>\n",
       "    </tr>\n",
       "  </tbody>\n",
       "</table>\n",
       "</div>"
      ],
      "text/plain": [
       "      Applicant_ID  ...                                                                                                                             Combined_info\n",
       "1967  11883         ...  ride operator operating rides friendly guest team player barista seasonal retail sales part time northridge ca northridge fashion center\n",
       "\n",
       "[1 rows x 6 columns]"
      ]
     },
     "execution_count": 50,
     "metadata": {
      "tags": []
     },
     "output_type": "execute_result"
    }
   ],
   "source": [
    "# Print the selected user info\n",
    "\n",
    "#user_profile = df_applicants.iloc[:,[0,1,5,-1]][df_applicants.index == 1967]\n",
    "#user_profile = df_applicants.iloc[:,[0,6,-1]][df_applicants.index == 1967]\n",
    "#user_profile = df_applicants.iloc[:,[0,11,-1]][df_applicants.index == 1967]\n",
    "user_profile = df_applicants.iloc[:,[0,1,5,6,11,-1]][df_applicants.index == 1967]\n",
    "#user_profile = df_applicants.iloc[:,[0,1,5,6,10,11]][df_applicants.index == 1967]\n",
    "\n",
    "user_profile"
   ]
  },
  {
   "cell_type": "code",
   "execution_count": 51,
   "metadata": {
    "colab": {
     "base_uri": "https://localhost:8080/",
     "height": 173
    },
    "colab_type": "code",
    "id": "bXyWtyhl4qJn",
    "outputId": "9f9a55bb-b529-4a08-9153-6c08f0e2ea28"
   },
   "outputs": [
    {
     "data": {
      "text/html": [
       "<div>\n",
       "<style scoped>\n",
       "    .dataframe tbody tr th:only-of-type {\n",
       "        vertical-align: middle;\n",
       "    }\n",
       "\n",
       "    .dataframe tbody tr th {\n",
       "        vertical-align: top;\n",
       "    }\n",
       "\n",
       "    .dataframe thead th {\n",
       "        text-align: right;\n",
       "    }\n",
       "</style>\n",
       "<table border=\"1\" class=\"dataframe\">\n",
       "  <thead>\n",
       "    <tr style=\"text-align: right;\">\n",
       "      <th></th>\n",
       "      <th>Job_ID</th>\n",
       "      <th>Position</th>\n",
       "      <th>tfidf_similarity_scores</th>\n",
       "    </tr>\n",
       "  </thead>\n",
       "  <tbody>\n",
       "    <tr>\n",
       "      <th>1106</th>\n",
       "      <td>137366</td>\n",
       "      <td>servers waiters waitresses wait staff</td>\n",
       "      <td>0.379505</td>\n",
       "    </tr>\n",
       "    <tr>\n",
       "      <th>23504</th>\n",
       "      <td>253033</td>\n",
       "      <td>ride operator</td>\n",
       "      <td>0.345899</td>\n",
       "    </tr>\n",
       "    <tr>\n",
       "      <th>67656</th>\n",
       "      <td>301422</td>\n",
       "      <td>rides lead</td>\n",
       "      <td>0.310868</td>\n",
       "    </tr>\n",
       "    <tr>\n",
       "      <th>29266</th>\n",
       "      <td>258796</td>\n",
       "      <td>ride mechanic</td>\n",
       "      <td>0.247447</td>\n",
       "    </tr>\n",
       "  </tbody>\n",
       "</table>\n",
       "</div>"
      ],
      "text/plain": [
       "       Job_ID                               Position  tfidf_similarity_scores\n",
       "1106   137366  servers waiters waitresses wait staff  0.379505               \n",
       "23504  253033  ride operator                          0.345899               \n",
       "67656  301422  rides lead                             0.310868               \n",
       "29266  258796  ride mechanic                          0.247447               "
      ]
     },
     "execution_count": 51,
     "metadata": {
      "tags": []
     },
     "output_type": "execute_result"
    }
   ],
   "source": [
    "# Print the 10 best matches info\n",
    "\n",
    "best10_jobs['tfidf_similarity_scores'] = tfidf_similarity[best10_indices]\n",
    "best10_jobs"
   ]
  },
  {
   "cell_type": "code",
   "execution_count": 0,
   "metadata": {
    "colab": {},
    "colab_type": "code",
    "id": "DiSa5YhtgCNv"
   },
   "outputs": [],
   "source": []
  }
 ],
 "metadata": {
  "accelerator": "GPU",
  "colab": {
   "collapsed_sections": [
    "Y7j79Irm96Zw",
    "TgvNNcyla-FP",
    "wHsPrdp7_BJs",
    "c4NERUaqdFzn",
    "mZQWJ_aI4oCU",
    "np-Dp9-g0nL_",
    "Y1w8JZKHZH6n",
    "DBdtg5hNfAea",
    "7nptnrjQe137",
    "69Vmb-yGThiO",
    "Lr4NTsq8g8qu",
    "T2TDMKEnhKgQ",
    "-8MQzddVHWN7",
    "FD-mjhA0mBcs"
   ],
   "machine_shape": "hm",
   "name": "NLP_RECO_TFIDF.ipynb",
   "provenance": [],
   "toc_visible": true
  },
  "kernelspec": {
   "display_name": "Python 3",
   "language": "python",
   "name": "python3"
  },
  "language_info": {
   "codemirror_mode": {
    "name": "ipython",
    "version": 3
   },
   "file_extension": ".py",
   "mimetype": "text/x-python",
   "name": "python",
   "nbconvert_exporter": "python",
   "pygments_lexer": "ipython3",
   "version": "3.7.6"
  }
 },
 "nbformat": 4,
 "nbformat_minor": 1
}
